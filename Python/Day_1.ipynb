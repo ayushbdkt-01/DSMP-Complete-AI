{
 "cells": [
  {
   "cell_type": "code",
   "execution_count": 12,
   "id": "181aa288",
   "metadata": {},
   "outputs": [
    {
     "name": "stdout",
     "output_type": "stream",
     "text": [
      "Ayush\n",
      "7\n",
      "7.766\n",
      "True\n",
      "Helllo 1 7.55 False\n",
      "Helllo---1---7.55---False\n",
      "Helllo 1 7.55 False***"
     ]
    }
   ],
   "source": [
    "# Python is case sensitive\n",
    "print(\"Ayush\")\n",
    "print(7)\n",
    "print(7.766)\n",
    "print(True)\n",
    "print(\"Helllo\", 1, 7.55, False)\n",
    "print(\"Helllo\", 1, 7.55, False, sep=\"---\") # default seperator is space\n",
    "print(\"Helllo\", 1, 7.55, False, end=\"***\") # default end is \\n"
   ]
  },
  {
   "cell_type": "code",
   "execution_count": 13,
   "id": "c3adf1f9",
   "metadata": {},
   "outputs": [
    {
     "name": "stdout",
     "output_type": "stream",
     "text": [
      "3.0\n"
     ]
    },
    {
     "ename": "AttributeError",
     "evalue": "'complex' object has no attribute 'img'",
     "output_type": "error",
     "traceback": [
      "\u001b[31m---------------------------------------------------------------------------\u001b[39m",
      "\u001b[31mAttributeError\u001b[39m                            Traceback (most recent call last)",
      "\u001b[36mCell\u001b[39m\u001b[36m \u001b[39m\u001b[32mIn[13]\u001b[39m\u001b[32m, line 9\u001b[39m\n\u001b[32m      7\u001b[39m c=\u001b[32m3\u001b[39m+\u001b[32m2\u001b[39mj\n\u001b[32m      8\u001b[39m \u001b[38;5;28mprint\u001b[39m(c.real)\n\u001b[32m----> \u001b[39m\u001b[32m9\u001b[39m \u001b[38;5;28mprint\u001b[39m(\u001b[43mc\u001b[49m\u001b[43m.\u001b[49m\u001b[43mimg\u001b[49m)\n",
      "\u001b[31mAttributeError\u001b[39m: 'complex' object has no attribute 'img'"
     ]
    }
   ],
   "source": [
    "# Integers range is -10^308 to 10^308\n",
    "# Float range is -10^308 to 10^308\n",
    "# Boolean values are True and False only\n",
    "# String is a collection of characters\n",
    "# No char datatype in python, it is a string of length 1\n",
    "#conplex numbers are real and imaginary parts\n",
    "c=3+2j\n",
    "print(c.real)\n",
    "print(c.img)"
   ]
  },
  {
   "cell_type": "code",
   "execution_count": null,
   "id": "977e37e7",
   "metadata": {},
   "outputs": [
    {
     "name": "stdout",
     "output_type": "stream",
     "text": [
      "[1, 2, 3, 4, 5, 'Hello', True]\n",
      "(1, 2, 3, 4, 5, 'Hello', True)\n",
      "{'name': 'Ayush', 'age': 20, 'is_student': True}\n",
      "{1, 2, 3, 4, 5, 'Hello'}\n",
      "None\n"
     ]
    }
   ],
   "source": [
    "# list is an ordered collection of items which is mutable\n",
    "print([1,2,3,4,5, \"Hello\", True])\n",
    "\n",
    "# tuple is an ordered collection of items which is immutable\n",
    "print((1,2,3,4,5, \"Hello\", True))\n",
    "\n",
    "# dictionary is an unordered collection of key-value pairs\n",
    "print({\"name\":\"Ayush\", \"age\":20, \"is_student\":True})\n",
    "\n",
    "# set is an unordered collection of unique items\n",
    "print({1,2,3,4,5, \"Hello\", True})\n",
    "\n",
    "# none is a special data type that represents the absence of a value\n",
    "print(None)"
   ]
  },
  {
   "cell_type": "code",
   "execution_count": null,
   "id": "93cf5747",
   "metadata": {},
   "outputs": [
    {
     "name": "stdout",
     "output_type": "stream",
     "text": [
      "<class 'int'>\n",
      "<class 'float'>\n",
      "<class 'bool'>\n",
      "<class 'str'>\n",
      "<class 'list'>\n",
      "<class 'tuple'>\n",
      "<class 'dict'>\n",
      "<class 'set'>\n",
      "<class 'NoneType'>\n"
     ]
    }
   ],
   "source": [
    "# type() function is used to get the data type of a variable\n",
    "print(type(7))\n",
    "print(type(7.766))\n",
    "print(type(True))\n",
    "print(type(\"Ayush\"))\n",
    "print(type([1,2,3,4,5, \"Hello\", True]))\n",
    "print(type((1,2,3,4,5, \"Hello\", True)))\n",
    "print(type({\"name\":\"Ayush\", \"age\":20, \"is_student\":True}))\n",
    "print(type({1,2,3,4,5, \"Hello\", True}))\n",
    "print(type(None))"
   ]
  },
  {
   "cell_type": "code",
   "execution_count": null,
   "id": "d16a3d63",
   "metadata": {},
   "outputs": [
    {
     "name": "stdout",
     "output_type": "stream",
     "text": [
      "30\n"
     ]
    }
   ],
   "source": [
    "# variables are used to store data\n",
    "# variable names can contain letters, digits and underscores\n",
    "# variable names cannot start with a digit\n",
    "# variable names are case sensitive\n",
    "a=10\n",
    "b=20\n",
    "print(a+b)"
   ]
  },
  {
   "cell_type": "code",
   "execution_count": null,
   "id": "79ba05cc",
   "metadata": {},
   "outputs": [],
   "source": [
    "# static typing means that the data type of a variable is known at compile time\n",
    "# dynamic typing means that the data type of a variable is known at runtime\n",
    "# python is a dynamically typed language\n",
    "\n",
    "# static binding means that the variable is bound to a specific data type\n",
    "# dynamic binding means that the variable can be bound to different data types\n",
    "# python uses dynamic binding"
   ]
  },
  {
   "cell_type": "code",
   "execution_count": null,
   "id": "968328e5",
   "metadata": {},
   "outputs": [
    {
     "name": "stdout",
     "output_type": "stream",
     "text": [
      "1\n",
      "2.5\n",
      "Ayush\n",
      "10\n",
      "10\n",
      "10\n"
     ]
    }
   ],
   "source": [
    "# shortcut to assign multiple variables in a single line\n",
    "\n",
    "a,b,c=1,2.5,\"Ayush\"\n",
    "print(a)\n",
    "print(b)\n",
    "print(c)\n",
    "\n",
    "a=b=c=10\n",
    "print(a)\n",
    "print(b)\n",
    "print(c)"
   ]
  },
  {
   "cell_type": "code",
   "execution_count": null,
   "id": "19d3cea3",
   "metadata": {},
   "outputs": [],
   "source": [
    "# comments in python start with #\n",
    "# multi-line comments can be done using triple quotes (not recommended)\n",
    "# comments are ignored by the interpreter"
   ]
  },
  {
   "cell_type": "code",
   "execution_count": 17,
   "id": "d3198cf7",
   "metadata": {},
   "outputs": [
    {
     "name": "stdout",
     "output_type": "stream",
     "text": [
      "['False', 'None', 'True', 'and', 'as', 'assert', 'async', 'await', 'break', 'class', 'continue', 'def', 'del', 'elif', 'else', 'except', 'finally', 'for', 'from', 'global', 'if', 'import', 'in', 'is', 'lambda', 'nonlocal', 'not', 'or', 'pass', 'raise', 'return', 'try', 'while', 'with', 'yield']\n"
     ]
    }
   ],
   "source": [
    "#  interperted language means that the code is executed line by line\n",
    "# compiled language means that the code is converted to machine code before execution\n",
    "# python is an interpreted language\n",
    "\n",
    "# keywords are reserved words in python that cannot be used as variable names\n",
    "# there are 35 keywords in python\n",
    "import keyword\n",
    "print(keyword.kwlist)"
   ]
  },
  {
   "cell_type": "code",
   "execution_count": null,
   "id": "c7ae8d6d",
   "metadata": {},
   "outputs": [],
   "source": [
    "# Identifiers are names used to identify variables, functions, classes, modules, and other objects\n",
    "# Rules for naming identifiers:\n",
    "# 1. Identifiers can be a combination of letters in lowercase (a to z) or uppercase (A to Z) or digits (0 to 9) or an underscore (_)\n",
    "# 2. An identifier cannot start with a digit (0 to 9)\n",
    "# 3. Keywords cannot be used as identifiers\n",
    "# 4. Identifiers are case-sensitive (age, Age and AGE are three different identifiers)\n",
    "# 5. There is no length limit for identifiers\n",
    "# 6. Special characters like !, @, #, $, % etc. are not allowed in identifiers"
   ]
  },
  {
   "cell_type": "code",
   "execution_count": 22,
   "id": "6d41958d",
   "metadata": {},
   "outputs": [
    {
     "name": "stdout",
     "output_type": "stream",
     "text": [
      "1212\n",
      "24\n"
     ]
    }
   ],
   "source": [
    "a=input(\"Enter a number 1: \")\n",
    "b=input(\"Enter a number 2: \")\n",
    "print(a+b) # by default input() function takes input as string\n",
    "\n",
    "a=int(a)\n",
    "b=int(b)\n",
    "print(a+b) # now it will add the two numbers"
   ]
  },
  {
   "cell_type": "code",
   "execution_count": null,
   "id": "73bac089",
   "metadata": {},
   "outputs": [
    {
     "name": "stdout",
     "output_type": "stream",
     "text": [
      "7.0\n",
      "<class 'float'>\n"
     ]
    }
   ],
   "source": [
    "# implicit type conversion is done by the interpreter automatically\n",
    "x=5       # int\n",
    "y=2.0     # float   \n",
    "print(x+y) # x is converted to float and then added\n",
    "print(type(x+y))\n",
    "\n",
    "\n",
    "# explicit type conversion is done by the programmer manually\n",
    "x=5       # int \n",
    "y=2.0     # float\n",
    "x=float(x) # converting int to float\n",
    "print(x+y)\n",
    "print(type(x+y))"
   ]
  },
  {
   "cell_type": "code",
   "execution_count": 25,
   "id": "3f8a5bea",
   "metadata": {},
   "outputs": [
    {
     "name": "stdout",
     "output_type": "stream",
     "text": [
      "10\n",
      "10\n",
      "10\n",
      "10\n"
     ]
    }
   ],
   "source": [
    "# Literal Constants are fixed values that do not change during the execution of a program\n",
    "a=10          # integer literal\n",
    "b=20.5        # float literal\n",
    "c=True        # boolean literal\n",
    "d=\"Ayush\"     # string literal\n",
    "e=None        # none literal\n",
    "\n",
    "decimal_literal=10\n",
    "binary_literal=0b1010 \n",
    "octal_literal=0o12\n",
    "hexadecimal_literal=0xA\n",
    "print(decimal_literal)\n",
    "print(binary_literal)\n",
    "print(octal_literal)\n",
    "print(hexadecimal_literal)"
   ]
  },
  {
   "cell_type": "code",
   "execution_count": null,
   "id": "49dced11",
   "metadata": {},
   "outputs": [],
   "source": []
  },
  {
   "cell_type": "code",
   "execution_count": null,
   "id": "b5b1029b",
   "metadata": {},
   "outputs": [],
   "source": []
  },
  {
   "cell_type": "code",
   "execution_count": null,
   "id": "707e6575",
   "metadata": {},
   "outputs": [],
   "source": []
  },
  {
   "cell_type": "code",
   "execution_count": null,
   "id": "c55d0d02",
   "metadata": {},
   "outputs": [],
   "source": []
  },
  {
   "cell_type": "code",
   "execution_count": null,
   "id": "cabf469a",
   "metadata": {},
   "outputs": [],
   "source": []
  },
  {
   "cell_type": "code",
   "execution_count": null,
   "id": "3800968c",
   "metadata": {},
   "outputs": [],
   "source": []
  }
 ],
 "metadata": {
  "kernelspec": {
   "display_name": "Python 3",
   "language": "python",
   "name": "python3"
  },
  "language_info": {
   "codemirror_mode": {
    "name": "ipython",
    "version": 3
   },
   "file_extension": ".py",
   "mimetype": "text/x-python",
   "name": "python",
   "nbconvert_exporter": "python",
   "pygments_lexer": "ipython3",
   "version": "3.13.3"
  }
 },
 "nbformat": 4,
 "nbformat_minor": 5
}
