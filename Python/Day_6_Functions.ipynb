{
 "cells": [
  {
   "cell_type": "code",
   "execution_count": null,
   "id": "3e4c6f8a",
   "metadata": {},
   "outputs": [],
   "source": [
    "# Function are block of code which performs a specific task\n",
    "# Features = Abstraction (hiding implementation), Decompositon (breaking complex code into smaller functions."
   ]
  },
  {
   "cell_type": "code",
   "execution_count": null,
   "id": "ae3c63f3",
   "metadata": {},
   "outputs": [
    {
     "name": "stdout",
     "output_type": "stream",
     "text": [
      "True\n",
      "False\n"
     ]
    }
   ],
   "source": [
    "def check_even(n):\n",
    "    '''This function check that the given number is even or not'''\n",
    "    if n%2==0: return True\n",
    "    else: return False\n",
    "\n",
    "print(check_even(10))\n",
    "print(check_even(11))\n",
    "\n",
    "# value sent in the function call is \"Argument\"\n",
    "# value received in the function definition is \"Parameter\"\n"
   ]
  },
  {
   "cell_type": "code",
   "execution_count": null,
   "id": "3bdfe136",
   "metadata": {},
   "outputs": [
    {
     "name": "stdout",
     "output_type": "stream",
     "text": [
      "8\n",
      "9\n",
      "100\n"
     ]
    }
   ],
   "source": [
    "# Defauly arguments = why default argument, not default parameter ??\n",
    "def power(a=10, b=2):\n",
    "    return a**b\n",
    "\n",
    "print(power(2,3)) # no default value is used\n",
    "print(power(3)) # default value of b=2\n",
    "print(power()) # both default values are used"
   ]
  },
  {
   "cell_type": "code",
   "execution_count": null,
   "id": "3faa5b48",
   "metadata": {},
   "outputs": [
    {
     "name": "stdout",
     "output_type": "stream",
     "text": [
      "1024\n"
     ]
    }
   ],
   "source": [
    "# positional arguments => order of sending arguments == order of receiving parameters\n",
    "# keywords arguments =>\n",
    "print(power(b=10, a=2)) # used in ML and DL when a function takes 10-15 arguments\n"
   ]
  },
  {
   "cell_type": "code",
   "execution_count": 7,
   "id": "fdf47ee1",
   "metadata": {},
   "outputs": [
    {
     "name": "stdout",
     "output_type": "stream",
     "text": [
      "(1, 2)\n",
      "2\n",
      "(1, 2, 3, 4, 5)\n",
      "120\n",
      "(1, 2, 3, 4, 5, 6, 7, 8, 9)\n",
      "362880\n"
     ]
    }
   ],
   "source": [
    "# *args allows us to send any number of non-keyword-arguments to the function\n",
    "# *args is considered as a tuple\n",
    "\n",
    "def prod(*args):\n",
    "    print(args) # tuple of all elements passes as argument\n",
    "    ans=1\n",
    "    for i in args:\n",
    "        ans*=i\n",
    "    return ans\n",
    "\n",
    "print(prod(1,2))\n",
    "print(prod(1,2,3,4,5))\n",
    "print(prod(1,2,3,4,5,6,7,8,9))"
   ]
  },
  {
   "cell_type": "code",
   "execution_count": null,
   "id": "48b8123b",
   "metadata": {},
   "outputs": [
    {
     "name": "stdout",
     "output_type": "stream",
     "text": [
      "This function check that the given number is even or not\n",
      "Prints the values to a stream, or to sys.stdout by default.\n",
      "\n",
      "  sep\n",
      "    string inserted between values, default a space.\n",
      "  end\n",
      "    string appended after the last value, default a newline.\n",
      "  file\n",
      "    a file-like object (stream); defaults to the current sys.stdout.\n",
      "  flush\n",
      "    whether to forcibly flush the stream.\n",
      "type(object) -> the object's type\n",
      "type(name, bases, dict, **kwds) -> a new type\n",
      "Return the identity of an object.\n",
      "\n",
      "This is guaranteed to be unique among simultaneously existing objects.\n",
      "(CPython uses the object's memory address.)\n"
     ]
    }
   ],
   "source": [
    "# gives documentation using \n",
    "\n",
    "print(check_even.__doc__) # gives the info of a function using docstring\n",
    "print(print.__doc__)\n",
    "print(type.__doc__)\n",
    "print(id.__doc__)"
   ]
  },
  {
   "cell_type": "code",
   "execution_count": 21,
   "id": "d4afa471",
   "metadata": {},
   "outputs": [
    {
     "name": "stdout",
     "output_type": "stream",
     "text": [
      "<class 'dict'>\n",
      "a -> 1\n",
      "b -> 4\n",
      "c -> 9\n",
      "d -> 16\n"
     ]
    }
   ],
   "source": [
    "# **kwargs allows us to pass any number of keyword-arguments\n",
    "# keyword arguments are those which are represented as key:value pair (like a python dictionary)\n",
    "# basically **kwargs is treated as a dictionary\n",
    "\n",
    "def myFunc(**kwargs):\n",
    "    print(type(kwargs))\n",
    "    for (key,value) in kwargs.items():\n",
    "        print(key,'->',value)\n",
    "\n",
    "myFunc(a=1, b=4, c=9, d=16)"
   ]
  },
  {
   "cell_type": "code",
   "execution_count": null,
   "id": "909596c6",
   "metadata": {},
   "outputs": [],
   "source": [
    "# ORDER OF ARGUMENTS =>\n",
    "# normal -> *args -> **kwargs\n",
    "# when function returns nothings, it returns None"
   ]
  },
  {
   "cell_type": "code",
   "execution_count": null,
   "id": "f1627aed",
   "metadata": {},
   "outputs": [
    {
     "name": "stdout",
     "output_type": "stream",
     "text": [
      "10\n",
      "11\n",
      "10\n"
     ]
    }
   ],
   "source": [
    "# global and local variables\n",
    "\n",
    "def func(n): # copy of variable is made (original keeps as it is)\n",
    "    n+=1\n",
    "    print(n)\n",
    "\n",
    "n=10\n",
    "print(n)\n",
    "func(n)\n",
    "print(n)"
   ]
  },
  {
   "cell_type": "code",
   "execution_count": 26,
   "id": "749d62c4",
   "metadata": {},
   "outputs": [
    {
     "ename": "NameError",
     "evalue": "name 'myfunc' is not defined",
     "output_type": "error",
     "traceback": [
      "\u001b[31m---------------------------------------------------------------------------\u001b[39m",
      "\u001b[31mNameError\u001b[39m                                 Traceback (most recent call last)",
      "\u001b[36mCell\u001b[39m\u001b[36m \u001b[39m\u001b[32mIn[26]\u001b[39m\u001b[32m, line 10\u001b[39m\n\u001b[32m      7\u001b[39m     myfunc()\n\u001b[32m      8\u001b[39m     \u001b[38;5;28mprint\u001b[39m(\u001b[33m\"\u001b[39m\u001b[33mOutside function\u001b[39m\u001b[33m\"\u001b[39m)\n\u001b[32m---> \u001b[39m\u001b[32m10\u001b[39m \u001b[43mfunc\u001b[49m\u001b[43m(\u001b[49m\u001b[43m)\u001b[49m\n\u001b[32m     11\u001b[39m \u001b[38;5;66;03m# cannot call the inside function from main()\u001b[39;00m\n",
      "\u001b[36mCell\u001b[39m\u001b[36m \u001b[39m\u001b[32mIn[26]\u001b[39m\u001b[32m, line 7\u001b[39m, in \u001b[36mfunc\u001b[39m\u001b[34m()\u001b[39m\n\u001b[32m      5\u001b[39m     \u001b[38;5;28mprint\u001b[39m(\u001b[33m\"\u001b[39m\u001b[33mInside function\u001b[39m\u001b[33m\"\u001b[39m)\n\u001b[32m      6\u001b[39m     func()\n\u001b[32m----> \u001b[39m\u001b[32m7\u001b[39m \u001b[43mmyfunc\u001b[49m()\n\u001b[32m      8\u001b[39m \u001b[38;5;28mprint\u001b[39m(\u001b[33m\"\u001b[39m\u001b[33mOutside function\u001b[39m\u001b[33m\"\u001b[39m)\n",
      "\u001b[31mNameError\u001b[39m: name 'myfunc' is not defined"
     ]
    }
   ],
   "source": [
    "# nested functions\n",
    "\n",
    "def func():\n",
    "    def myFunc():\n",
    "        print(\"Inside function\")\n",
    "        func()\n",
    "    myfunc()\n",
    "    print(\"Outside function\")\n",
    "\n",
    "func()\n",
    "# cannot call the inside function from main()"
   ]
  },
  {
   "cell_type": "code",
   "execution_count": null,
   "id": "dd29d3d2",
   "metadata": {},
   "outputs": [
    {
     "name": "stdout",
     "output_type": "stream",
     "text": [
      "<class 'function'>\n",
      "2550252235616\n",
      "9\n"
     ]
    },
    {
     "data": {
      "text/plain": [
       "16"
      ]
     },
     "execution_count": 32,
     "metadata": {},
     "output_type": "execute_result"
    }
   ],
   "source": [
    "# Functions in python are first class citizens = all operations which can be performed on dataTypes, can be performed by a function\n",
    "# function in python is a immutable dataType\n",
    "def square(n):\n",
    "    return n**2\n",
    "\n",
    "print(type(square))\n",
    "print(id(square))\n",
    "\n",
    "x=square # x() and square() are same functions\n",
    "print(x(3)) \n",
    "\n",
    "del square # deleting a function\n",
    "\n",
    "l=[1,2,3,x] # storing func in a list and calling it\n",
    "l[-1](4)"
   ]
  },
  {
   "cell_type": "code",
   "execution_count": null,
   "id": "deaccb9b",
   "metadata": {},
   "outputs": [
    {
     "data": {
      "text/plain": [
       "30"
      ]
     },
     "execution_count": 35,
     "metadata": {},
     "output_type": "execute_result"
    }
   ],
   "source": [
    "# function returning a function\n",
    "\n",
    "def f():\n",
    "    def x(a,b):\n",
    "        return a+b\n",
    "    return x\n",
    "\n",
    "\n",
    "f()(10,20)"
   ]
  },
  {
   "cell_type": "code",
   "execution_count": null,
   "id": "2025866d",
   "metadata": {},
   "outputs": [],
   "source": [
    "# BENEFITS OF USING FUNCTION = modularity, readibility, reusability"
   ]
  },
  {
   "cell_type": "code",
   "execution_count": 45,
   "id": "d7161769",
   "metadata": {},
   "outputs": [
    {
     "data": {
      "text/plain": [
       "25"
      ]
     },
     "execution_count": 45,
     "metadata": {},
     "output_type": "execute_result"
    }
   ],
   "source": [
    "# Lambda func = small anonymous function which takes multiple parameters, but can have only 1 expression\n",
    "# lambda parameters : returnValue\n",
    "\n",
    "a=10\n",
    "ans=lambda a: a**2\n",
    "ans(5)"
   ]
  },
  {
   "cell_type": "code",
   "execution_count": 46,
   "id": "f13bc5bd",
   "metadata": {},
   "outputs": [
    {
     "data": {
      "text/plain": [
       "25"
      ]
     },
     "execution_count": 46,
     "metadata": {},
     "output_type": "execute_result"
    }
   ],
   "source": [
    "func=lambda a,b:a+b\n",
    "func(12,13)"
   ]
  },
  {
   "cell_type": "code",
   "execution_count": null,
   "id": "0b825807",
   "metadata": {},
   "outputs": [],
   "source": [
    "# Why lambda function ->\n",
    "# No name, no return value (infact, returns a function), one liner code, not reusable\n",
    "# used = used with higher order functions (HOF)"
   ]
  },
  {
   "cell_type": "code",
   "execution_count": 47,
   "id": "08fa020a",
   "metadata": {},
   "outputs": [
    {
     "data": {
      "text/plain": [
       "False"
      ]
     },
     "execution_count": 47,
     "metadata": {},
     "output_type": "execute_result"
    }
   ],
   "source": [
    "func=lambda s: 'a' in s\n",
    "func(\"Hello\")"
   ]
  },
  {
   "cell_type": "code",
   "execution_count": 49,
   "id": "c6058357",
   "metadata": {},
   "outputs": [
    {
     "data": {
      "text/plain": [
       "'odd'"
      ]
     },
     "execution_count": 49,
     "metadata": {},
     "output_type": "execute_result"
    }
   ],
   "source": [
    "check = lambda n:\"even\" if n%2==0 else \"odd\"\n",
    "check(45)"
   ]
  },
  {
   "cell_type": "code",
   "execution_count": null,
   "id": "476efa38",
   "metadata": {},
   "outputs": [
    {
     "name": "stdout",
     "output_type": "stream",
     "text": [
      "[1, 4, 9, 16, 25]\n"
     ]
    }
   ],
   "source": [
    "# higher order function is a function which itself takes a function as parameter\n",
    "\n",
    "def square(n):\n",
    "    return n**2\n",
    "\n",
    "def transform(func,l): # this is a higher order function (takes a function as parameter)\n",
    "    ans_list=[]\n",
    "    for i in l:\n",
    "        ans_list.append(func(i))\n",
    "    return ans_list\n",
    "\n",
    "l=[1,2,3,4,5]\n",
    "new_List=transform(square,l)\n",
    "print(new_List)"
   ]
  },
  {
   "cell_type": "code",
   "execution_count": null,
   "id": "d55225e3",
   "metadata": {},
   "outputs": [
    {
     "data": {
      "text/plain": [
       "[1, 4, 9, 16, 25]"
      ]
     },
     "execution_count": 51,
     "metadata": {},
     "output_type": "execute_result"
    }
   ],
   "source": [
    "transform(lambda n:n**2,l) # passing lambda function as a parameter in a HOF"
   ]
  },
  {
   "cell_type": "code",
   "execution_count": 53,
   "id": "c64d6c94",
   "metadata": {},
   "outputs": [
    {
     "name": "stdout",
     "output_type": "stream",
     "text": [
      "[1, 8, 27, 64, 125]\n"
     ]
    }
   ],
   "source": [
    "# Map\n",
    "# used to apply a logic/operation on whole list\n",
    "\n",
    "l=list(map(lambda x:x**3, [1,2,3,4,5])) #  {lambda_function, iterable_like_list}\n",
    "print(l)"
   ]
  },
  {
   "cell_type": "code",
   "execution_count": 55,
   "id": "82bd903c",
   "metadata": {},
   "outputs": [
    {
     "name": "stdout",
     "output_type": "stream",
     "text": [
      "['odd', 'even', 'odd', 'even', 'odd']\n"
     ]
    }
   ],
   "source": [
    "l=[1,2,3,4,5]\n",
    "new_list=list(map(lambda x: \"even\" if x%2==0 else \"odd\", l))\n",
    "print(new_list)"
   ]
  },
  {
   "cell_type": "code",
   "execution_count": 56,
   "id": "0edb88ab",
   "metadata": {},
   "outputs": [
    {
     "name": "stdout",
     "output_type": "stream",
     "text": [
      "[4, 5]\n"
     ]
    }
   ],
   "source": [
    "# filter = filters elements of a iterable based on some condition\n",
    "\n",
    "l=list(filter(lambda n:n>3, [1,2,3,4,5]))\n",
    "print(l)"
   ]
  },
  {
   "cell_type": "code",
   "execution_count": null,
   "id": "4ab9d7c2",
   "metadata": {},
   "outputs": [
    {
     "data": {
      "text/plain": [
       "15"
      ]
     },
     "execution_count": 57,
     "metadata": {},
     "output_type": "execute_result"
    }
   ],
   "source": [
    "# reduce = converts the whole iterable to a single value/variable\n",
    "import functools\n",
    "sum = functools.reduce(lambda x,y:x+y,[1,2,3,4,5]) # takes 2 elements at a time and finds cumulative sum\n",
    "print(sum)"
   ]
  },
  {
   "cell_type": "code",
   "execution_count": null,
   "id": "004f188d",
   "metadata": {},
   "outputs": [
    {
     "data": {
      "text/plain": [
       "0"
      ]
     },
     "execution_count": 58,
     "metadata": {},
     "output_type": "execute_result"
    }
   ],
   "source": [
    "import functools\n",
    "functools.reduce(lambda x,y: x if x<y else y,[1,3,4,2,0])  # finding minimum element in the list"
   ]
  },
  {
   "cell_type": "code",
   "execution_count": null,
   "id": "b8eca7a2",
   "metadata": {},
   "outputs": [],
   "source": []
  },
  {
   "cell_type": "code",
   "execution_count": null,
   "id": "475f93e6",
   "metadata": {},
   "outputs": [],
   "source": []
  },
  {
   "cell_type": "code",
   "execution_count": null,
   "id": "03c6e48b",
   "metadata": {},
   "outputs": [],
   "source": []
  },
  {
   "cell_type": "code",
   "execution_count": null,
   "id": "b44640c3",
   "metadata": {},
   "outputs": [],
   "source": []
  },
  {
   "cell_type": "code",
   "execution_count": null,
   "id": "30dc80c8",
   "metadata": {},
   "outputs": [],
   "source": []
  },
  {
   "cell_type": "code",
   "execution_count": null,
   "id": "eac2006d",
   "metadata": {},
   "outputs": [],
   "source": []
  }
 ],
 "metadata": {
  "kernelspec": {
   "display_name": "Python 3",
   "language": "python",
   "name": "python3"
  },
  "language_info": {
   "codemirror_mode": {
    "name": "ipython",
    "version": 3
   },
   "file_extension": ".py",
   "mimetype": "text/x-python",
   "name": "python",
   "nbconvert_exporter": "python",
   "pygments_lexer": "ipython3",
   "version": "3.13.3"
  }
 },
 "nbformat": 4,
 "nbformat_minor": 5
}
