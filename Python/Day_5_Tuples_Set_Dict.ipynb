{
 "cells": [
  {
   "cell_type": "code",
   "execution_count": null,
   "id": "110942ff",
   "metadata": {},
   "outputs": [],
   "source": [
    "# tuples are similar to lists, but immutable\n",
    "# basically a immutable list\n",
    "\n",
    "# CHARACTERSTICS:  ordered, immutable, allows duplicate"
   ]
  },
  {
   "cell_type": "code",
   "execution_count": 6,
   "id": "8a2801b7",
   "metadata": {},
   "outputs": [
    {
     "name": "stdout",
     "output_type": "stream",
     "text": [
      "()\n",
      "(2,)\n",
      "<class 'tuple'>\n",
      "(1, 2.5, True, [1, 2, 3])\n",
      "(1, 2, 3, 4, (5, 6))\n",
      "('H', 'e', 'l', 'l', 'o')\n"
     ]
    }
   ],
   "source": [
    "t=() # empty tuple\n",
    "print(t)\n",
    "\n",
    "t=(2) # int type variable\n",
    "t=(2,) # tuple\n",
    "print(t)\n",
    "print(type(t))\n",
    "\n",
    "t=(1,2.5,True, [1,2,3]) # heterogeneous tuple\n",
    "print(t)\n",
    "\n",
    "t=(1,2,3,4,(5,6))\n",
    "print(t)\n",
    "\n",
    "t=tuple(\"Hello\") # type conversion\n",
    "print(t)"
   ]
  },
  {
   "cell_type": "code",
   "execution_count": 11,
   "id": "87ab0679",
   "metadata": {},
   "outputs": [
    {
     "name": "stdout",
     "output_type": "stream",
     "text": [
      "1\n",
      "(6, 7)\n",
      "(2, 3, 4)\n",
      "((6, 7), 5, 4)\n",
      "((6, 7), 5, 4, 3, 2, 1)\n",
      "6\n"
     ]
    }
   ],
   "source": [
    "t=(1,2,3,4,5,(6,7))\n",
    "\n",
    "# indexing\n",
    "print(t[0])\n",
    "print(t[-1])\n",
    "\n",
    "# slicing\n",
    "print(t[1:4])\n",
    "print(t[-1:-4:-1])\n",
    "print(t[::-1]) # reversed tuple\n",
    "print(t[-1][0])"
   ]
  },
  {
   "cell_type": "code",
   "execution_count": 12,
   "id": "726e3350",
   "metadata": {},
   "outputs": [],
   "source": [
    "# adding, editing not possible due to immutability\n",
    "# we can delete the whole tuple using \"del\" but not a sub-part of the tuple\n",
    "\n",
    "t=(1,2,3,4,5)\n",
    "del t"
   ]
  },
  {
   "cell_type": "code",
   "execution_count": null,
   "id": "280dfd29",
   "metadata": {},
   "outputs": [
    {
     "name": "stdout",
     "output_type": "stream",
     "text": [
      "(1, 2, 3, 4, 5, 6, 7, 8)\n",
      "(1, 2, 3, 4, 1, 2, 3, 4, 1, 2, 3, 4, 1, 2, 3, 4)\n",
      "True\n",
      "1 2 3 4 "
     ]
    }
   ],
   "source": [
    "t1=(1,2,3,4)\n",
    "t2=(5,6,7,8)\n",
    "\n",
    "print(t1+t2)\n",
    "print(t1*4)\n",
    "print(4 in t1) # membership operator\n",
    "for i in t1: print(i,end=' ') # iteration"
   ]
  },
  {
   "cell_type": "code",
   "execution_count": 18,
   "id": "cba98a60",
   "metadata": {},
   "outputs": [
    {
     "name": "stdout",
     "output_type": "stream",
     "text": [
      "5\n",
      "5\n",
      "1\n",
      "[1, 2, 2, 4, 5]\n",
      "[5, 4, 2, 2, 1]\n"
     ]
    }
   ],
   "source": [
    "t=(1,2,5,2,4)\n",
    "\n",
    "print(len(t))\n",
    "print(max(t))\n",
    "print(min(t))\n",
    "print(sorted(t))\n",
    "print(sorted(t,reverse=True))"
   ]
  },
  {
   "cell_type": "code",
   "execution_count": null,
   "id": "078f85bf",
   "metadata": {},
   "outputs": [
    {
     "name": "stdout",
     "output_type": "stream",
     "text": [
      "3\n"
     ]
    }
   ],
   "source": [
    "t=(1,1,1,2,3,4,5)\n",
    "print(t.count(1)) # frequenct count of element\n",
    "print(t.index(2)) # returns index of element, error if element is not present, gives first occurrence of element\n"
   ]
  },
  {
   "cell_type": "code",
   "execution_count": null,
   "id": "a74eb8ec",
   "metadata": {},
   "outputs": [],
   "source": [
    "# tuples are faster than list (immutable)\n",
    "# tuples take less memory than lists (immutable data type)\n",
    "# lists has more functions than tuple\n",
    "# lists has high changes of getting error (error prone = list)\n",
    "# tuples are used for read-only applications"
   ]
  },
  {
   "cell_type": "code",
   "execution_count": 23,
   "id": "6f973eab",
   "metadata": {},
   "outputs": [
    {
     "name": "stdout",
     "output_type": "stream",
     "text": [
      "1 2 3\n",
      "10 20\n",
      "20 10\n"
     ]
    }
   ],
   "source": [
    "a,b,c=(1,2,3) # tuple unpacking, LHS should be same to RHS in number\n",
    "print(a,b,c)\n",
    "\n",
    "a,b=10,20\n",
    "print(a,b)\n",
    "a,b=b,a # swapping\n",
    "print(a,b)"
   ]
  },
  {
   "cell_type": "code",
   "execution_count": null,
   "id": "0499ea46",
   "metadata": {},
   "outputs": [
    {
     "name": "stdout",
     "output_type": "stream",
     "text": [
      "1\n",
      "2\n",
      "[3, 4, 5, 6, 7, 8]\n"
     ]
    }
   ],
   "source": [
    "a,b,*otherElements=(1,2,3,4,5,6,7,8)\n",
    "print(a)\n",
    "print(b)\n",
    "print(otherElements) # list of remaining elements"
   ]
  },
  {
   "cell_type": "code",
   "execution_count": 28,
   "id": "367a74fa",
   "metadata": {},
   "outputs": [
    {
     "name": "stdout",
     "output_type": "stream",
     "text": [
      "<zip object at 0x000001CAA6450880>\n",
      "((1, 5), (2, 6), (3, 7))\n",
      "[(1, 5), (2, 6), (3, 7)]\n"
     ]
    }
   ],
   "source": [
    "t1=(1,2,3,4,5)\n",
    "t2=(5,6,7)\n",
    "\n",
    "print(zip(t1,t2)) # returns a zip object\n",
    "print(tuple(zip(t1,t2))) # typecasting zip object to a tuple (tuple of tuple)\n",
    "print(list(zip(t1,t2))) # typecasting zip object to a list (list of tuple)"
   ]
  },
  {
   "cell_type": "code",
   "execution_count": null,
   "id": "7379b8f4",
   "metadata": {},
   "outputs": [],
   "source": [
    "# SET = Unordered collection of elements, mutable, no duplicates, contains only immutable data types \n",
    "# union, intersection, setDifference are applied on sets\n",
    "# set doesn't not contain mutable data types, but itself is mutable\n",
    "# 2D sets are not possible "
   ]
  },
  {
   "cell_type": "code",
   "execution_count": 12,
   "id": "9763b0f3",
   "metadata": {},
   "outputs": [
    {
     "name": "stdout",
     "output_type": "stream",
     "text": [
      "set()\n",
      "{1, 2, 3, 4}\n",
      "{3, 1, (4, 5), 2}\n",
      "{1, 2, 3.14}\n",
      "{1, 2, 3, 4, 5}\n"
     ]
    }
   ],
   "source": [
    "s=set() # empty set\n",
    "print(s)\n",
    "\n",
    "s={1,2,3,4,4,4} # 1D sets, 2D sets are not possible\n",
    "print(s)\n",
    "\n",
    "s={1,2,3,(4,5)} # this is not a 2D set\n",
    "print(s)\n",
    "\n",
    "s={1,2,3.14,True} # heterogenous set\n",
    "print(s) # true is treated as 1, so True is not present in the set\n",
    "\n",
    "s=set([1,2,3,4,5,5,5]) # type conversion\n",
    "print(s)"
   ]
  },
  {
   "cell_type": "code",
   "execution_count": 15,
   "id": "d8888148",
   "metadata": {},
   "outputs": [
    {
     "name": "stdout",
     "output_type": "stream",
     "text": [
      "True\n"
     ]
    }
   ],
   "source": [
    "s1={1,3,2}\n",
    "s2={1,2,3}\n",
    "\n",
    "print(s1==s2) # True because sets are unordered"
   ]
  },
  {
   "cell_type": "code",
   "execution_count": null,
   "id": "c6c29999",
   "metadata": {},
   "outputs": [
    {
     "name": "stdout",
     "output_type": "stream",
     "text": [
      "{1, 2, 3, 4, 5}\n"
     ]
    }
   ],
   "source": [
    "# indexing and slicing is not possible because set are unordered\n",
    "# editing the element is not possible, but can add new elements\n",
    "s={1,2,3,4}\n",
    "s.add(5) # adds element at any position (unordered)\n",
    "print(s) "
   ]
  },
  {
   "cell_type": "code",
   "execution_count": 22,
   "id": "8eee9ea1",
   "metadata": {},
   "outputs": [
    {
     "name": "stdout",
     "output_type": "stream",
     "text": [
      "{1, 2, 3, 4}\n",
      "{1, 2, 3}\n",
      "{2, 3}\n",
      "set()\n"
     ]
    }
   ],
   "source": [
    "# can delete the whole set, but not a single element (no indexing and slicing)\n",
    "s={1,2,3,4,5}\n",
    "del s\n",
    "\n",
    "s={1,2,3,4,5}\n",
    "s.discard(5) # deletes the specific element\n",
    "print(s)\n",
    "\n",
    "s.remove(4) # deletes specific element\n",
    "print(s)\n",
    "\n",
    "# discard doesn't throw error when element is not present\n",
    "# remove throws error when element is not present\n",
    "\n",
    "s.pop() # deletes any random element\n",
    "print(s)\n",
    "\n",
    "s.clear() # deletes all elements from the set\n",
    "print(s)"
   ]
  },
  {
   "cell_type": "code",
   "execution_count": null,
   "id": "59c9c873",
   "metadata": {},
   "outputs": [
    {
     "name": "stdout",
     "output_type": "stream",
     "text": [
      "{1, 2, 3, 4, 5, 6, 7, 8}\n",
      "{4, 5}\n",
      "{1, 2, 3}\n",
      "{1, 2, 3, 6, 7, 8}\n",
      "True\n",
      "1 2 3 4 5 "
     ]
    }
   ],
   "source": [
    "# set operations\n",
    "\n",
    "s1={1,2,3,4,5}\n",
    "s2={4,5,6,7,8}\n",
    "\n",
    "print(s1 | s2) # unuon = all elements\n",
    "print(s1 & s2) # intersection = common elements\n",
    "print(s1-s2) # set difference = removing items of s2 from s1, printing remaining items from s1\n",
    "print(s1^s2) # symmetric difference\n",
    "print(1 in s1) # membership  \n",
    "for i in s1: print(i,end=' ') # iteration"
   ]
  },
  {
   "cell_type": "code",
   "execution_count": 29,
   "id": "d2fab84f",
   "metadata": {},
   "outputs": [
    {
     "name": "stdout",
     "output_type": "stream",
     "text": [
      "5\n",
      "1\n",
      "5\n",
      "[1, 2, 3, 4, 5]\n",
      "[5, 4, 3, 2, 1]\n",
      "15\n"
     ]
    }
   ],
   "source": [
    "s={1,2,3,4,5}\n",
    "print(len(s))\n",
    "print(min(s))\n",
    "print(max(s))\n",
    "print(sorted(s))\n",
    "print(sorted(s, reverse=True))\n",
    "print(sum(s)) # sum of all elements of the set"
   ]
  },
  {
   "cell_type": "code",
   "execution_count": null,
   "id": "744d83f0",
   "metadata": {},
   "outputs": [
    {
     "name": "stdout",
     "output_type": "stream",
     "text": [
      "{1, 2, 3, 4, 5, 6, 7, 8}\n",
      "{1, 2, 3, 4, 5, 6, 7, 8}\n",
      "{4, 5, 6, 7, 8}\n"
     ]
    }
   ],
   "source": [
    "print(s1.union(s2))\n",
    "\n",
    "s1.update(s2) # permanant changes in s1\n",
    "print(s1)\n",
    "print(s2)"
   ]
  },
  {
   "cell_type": "code",
   "execution_count": 35,
   "id": "45032368",
   "metadata": {},
   "outputs": [
    {
     "name": "stdout",
     "output_type": "stream",
     "text": [
      "{4, 5}\n",
      "{4, 5}\n",
      "{4, 5, 6, 7, 8}\n"
     ]
    }
   ],
   "source": [
    "s1={1,2,3,4,5}\n",
    "s2={4,5,6,7,8}\n",
    "\n",
    "print(s1.intersection(s2))\n",
    "s1.intersection_update(s2)\n",
    "print(s1)\n",
    "print(s2)"
   ]
  },
  {
   "cell_type": "code",
   "execution_count": 36,
   "id": "e4a6226e",
   "metadata": {},
   "outputs": [
    {
     "name": "stdout",
     "output_type": "stream",
     "text": [
      "{1, 2, 3}\n",
      "{1, 2, 3}\n",
      "{4, 5, 6, 7, 8}\n"
     ]
    }
   ],
   "source": [
    "s1={1,2,3,4,5}\n",
    "s2={4,5,6,7,8}\n",
    "\n",
    "print(s1.difference(s2))\n",
    "s1.difference_update(s2)\n",
    "print(s1)\n",
    "print(s2)"
   ]
  },
  {
   "cell_type": "code",
   "execution_count": 38,
   "id": "00833921",
   "metadata": {},
   "outputs": [
    {
     "name": "stdout",
     "output_type": "stream",
     "text": [
      "{1, 2, 3, 6, 7, 8}\n",
      "{1, 2, 3, 6, 7, 8}\n",
      "{4, 5, 6, 7, 8}\n"
     ]
    }
   ],
   "source": [
    "s1={1,2,3,4,5}\n",
    "s2={4,5,6,7,8}\n",
    "\n",
    "print(s1.symmetric_difference(s2))\n",
    "s1.symmetric_difference_update(s2)\n",
    "print(s1)\n",
    "print(s2)"
   ]
  },
  {
   "cell_type": "code",
   "execution_count": 39,
   "id": "5d289071",
   "metadata": {},
   "outputs": [
    {
     "name": "stdout",
     "output_type": "stream",
     "text": [
      "False\n",
      "False\n",
      "False\n"
     ]
    }
   ],
   "source": [
    "s1={1,2,3,4}\n",
    "s2={3,4,5,6}\n",
    "\n",
    "print(s1.isdisjoint(s2)) # disjoint set = no common element\n",
    "print(s1.issubset(s2)) # is s2 a subset of s1\n",
    "print(s1.issuperset(s2)) # is s2 a superset of s1\n"
   ]
  },
  {
   "cell_type": "code",
   "execution_count": 40,
   "id": "e7dfddbc",
   "metadata": {},
   "outputs": [
    {
     "name": "stdout",
     "output_type": "stream",
     "text": [
      "{1, 2, 3, 4}\n",
      "{1, 2, 3, 4}\n",
      "2230663466336\n",
      "2230663466336\n"
     ]
    }
   ],
   "source": [
    "s1={1,2,3,4}\n",
    "s2=s1\n",
    "\n",
    "print(s1)\n",
    "print(s2)\n",
    "\n",
    "print(id(s1))\n",
    "print(id(s2))"
   ]
  },
  {
   "cell_type": "code",
   "execution_count": null,
   "id": "bf58dd7d",
   "metadata": {},
   "outputs": [
    {
     "name": "stdout",
     "output_type": "stream",
     "text": [
      "frozenset({1, 2, 3, 4, 5})\n",
      "<class 'frozenset'>\n",
      "frozenset({frozenset({3, 4}), 1, 2})\n"
     ]
    }
   ],
   "source": [
    "# frozenset = immutable set\n",
    "s=frozenset([1,2,3,4,5])\n",
    "print(s)\n",
    "print(type(s))\n",
    "\n",
    "# all functions are same as set, editing functions doesn't work, else all works\n",
    "\n",
    "s=frozenset([1,2,frozenset([3,4])]) # 2D FrozenSet\n",
    "print(s)\n"
   ]
  },
  {
   "cell_type": "code",
   "execution_count": 46,
   "id": "b3e01b95",
   "metadata": {},
   "outputs": [
    {
     "name": "stdout",
     "output_type": "stream",
     "text": [
      "{2, 4, 6, 8, 10}\n",
      "{16, 1, 4, 9}\n"
     ]
    }
   ],
   "source": [
    "# set comprehension\n",
    "\n",
    "s={i for i in range(1,11) if i%2==0} # even numbers from 1 to 10\n",
    "print(s)\n",
    "\n",
    "s={i**2 for i in range(1,11) if i<5}\n",
    "print(s)"
   ]
  },
  {
   "cell_type": "code",
   "execution_count": null,
   "id": "0bb50b66",
   "metadata": {},
   "outputs": [
    {
     "name": "stdout",
     "output_type": "stream",
     "text": [
      "{'Name': 'Ayush', 'Age': 21}\n"
     ]
    }
   ],
   "source": [
    "# Dictionary is a collection of key:value pairs\n",
    "# Also called map or associative arrays\n",
    "# mutable, no indexing, no duplicate keys, keys can't be mutable items"
   ]
  },
  {
   "cell_type": "code",
   "execution_count": null,
   "id": "dbd1a39f",
   "metadata": {},
   "outputs": [
    {
     "name": "stdout",
     "output_type": "stream",
     "text": [
      "{}\n",
      "{'Name': 'Ayush', 'Age': 21}\n",
      "{'Name': 'Ayush', 'Age': 21, 'Marks': {'hindi': 12, 'English': 23}}\n",
      "{(1, 2, 3): 'Ayush', 'Name': 'Ankit'}\n",
      "{1: 2, 3: 4, 5: 6}\n",
      "{1: 2, 3: 4, 5: 6}\n"
     ]
    }
   ],
   "source": [
    "d={} # empty dict\n",
    "print(d)\n",
    "\n",
    "d={'Name':'Ayush', 'Age':21} # 1D dict\n",
    "print(d)\n",
    "\n",
    "\n",
    "d={'Name':'Ayush',\n",
    "    'Age':21,\n",
    "    \"Marks\": \n",
    "        {\"hindi\":12,\n",
    "         \"English\": 23}} # 2D dict = JSON Format\n",
    "print(d)\n",
    "\n",
    "d={(1,2,3): \"Ayush\",\"Name\" : \"Ankit\"} # mixed keys\n",
    "print(d)\n",
    "\n",
    "d=dict([(1,2),(3,4),(5,6)])  # dict() takes a list of tuples and converts it to a dictionary\n",
    "print(d)\n",
    "\n",
    "# d={[1,2,3]:\"Ayush\"} # keys can't be mutable (like list)\n"
   ]
  },
  {
   "cell_type": "code",
   "execution_count": 71,
   "id": "4ace098b",
   "metadata": {},
   "outputs": [
    {
     "name": "stdout",
     "output_type": "stream",
     "text": [
      "{'Name': 'Ayush', 'Age': 21}\n",
      "Ayush\n",
      "21\n",
      "{'Name': 'Ayush', 'Age': 21, 'Gender': 'Male'}\n"
     ]
    }
   ],
   "source": [
    "\n",
    "d={'Name':'Ayush', 'Age':21} # 1D dict\n",
    "print(d)\n",
    "print(d['Name'])  # fetching value using key\n",
    "print(d.get('Age')) # fetching value using get()\n",
    "d['Gender']='Male' # adding now pair in dictionary\n",
    "print(d)"
   ]
  },
  {
   "cell_type": "code",
   "execution_count": 72,
   "id": "0c5268a5",
   "metadata": {},
   "outputs": [
    {
     "name": "stdout",
     "output_type": "stream",
     "text": [
      "{'Name': 'Ayush', 'Age': 21, 'Gender': 'Male'}\n",
      "{'Name': 'Ayush', 'Age': 21}\n",
      "{'Name': 'Ayush'}\n",
      "{}\n",
      "{}\n"
     ]
    }
   ],
   "source": [
    "print(d)\n",
    "\n",
    "d.pop('Gender') # deletes pair by giving key\n",
    "print(d)\n",
    "\n",
    "d.popitem() # deletes last pair\n",
    "print(d)\n",
    "\n",
    "del d['Name'] # deletes pair by giving key\n",
    "print(d)\n",
    "\n",
    "d.clear() # removes all pairs from the dictionary\n",
    "print(d)\n"
   ]
  },
  {
   "cell_type": "code",
   "execution_count": null,
   "id": "a1091881",
   "metadata": {},
   "outputs": [
    {
     "name": "stdout",
     "output_type": "stream",
     "text": [
      "12\n",
      "{'hindi': 12, 'English': 23, 'Science': 99}\n",
      "{'Name': 'Ayush', 'Age': 21, 'Marks': {'hindi': 12, 'English': 23}}\n",
      "{'Name': 'Ayush', 'Age': 21, 'Marks': {'hindi': 89, 'English': 23}}\n"
     ]
    }
   ],
   "source": [
    "d={\n",
    "    'Name':'Ayush',\n",
    "    'Age':21,\n",
    "    \"Marks\": \n",
    "        {\n",
    "        \"hindi\":12,\n",
    "        \"English\": 23\n",
    "        }\n",
    "} \n",
    "\n",
    "print(d['Marks']['hindi'])\n",
    "\n",
    "d['Marks']['Science']=99\n",
    "print(d['Marks'])\n",
    "\n",
    "del d['Marks']['Science']\n",
    "print(d)\n",
    "\n",
    "d['Marks']['hindi']=89\n",
    "print(d)\n"
   ]
  },
  {
   "cell_type": "code",
   "execution_count": 83,
   "id": "c11bfe94",
   "metadata": {},
   "outputs": [
    {
     "name": "stdout",
     "output_type": "stream",
     "text": [
      "True\n",
      "True\n",
      "Name Ayush\n",
      "Age 21\n",
      "Marks {'hindi': 12, 'English': 23}\n"
     ]
    }
   ],
   "source": [
    "d={\n",
    "    'Name':'Ayush',\n",
    "    'Age':21,\n",
    "    \"Marks\": \n",
    "        {\n",
    "        \"hindi\":12,\n",
    "        \"English\": 23\n",
    "        }\n",
    "} \n",
    "\n",
    "print('Name' in d) # searches for key\n",
    "print(\"Marks\" in d)\n",
    "\n",
    "for i in d:\n",
    "    print(i,d[i])\n"
   ]
  },
  {
   "cell_type": "code",
   "execution_count": 88,
   "id": "86a93496",
   "metadata": {},
   "outputs": [
    {
     "name": "stdout",
     "output_type": "stream",
     "text": [
      "2\n",
      "['Age', 'Name']\n",
      "Name\n",
      "Age\n",
      "['Name', 'Age']\n"
     ]
    }
   ],
   "source": [
    "d={'Name':'Ayush', 'Age':21} \n",
    "\n",
    "print(len(d))\n",
    "print(sorted(d)) # sorting by key\n",
    "print(max(d)) # ASCII value\n",
    "print(min(d))\n",
    "print(sorted(d,reverse=True))\n"
   ]
  },
  {
   "cell_type": "code",
   "execution_count": 92,
   "id": "2071470f",
   "metadata": {},
   "outputs": [
    {
     "name": "stdout",
     "output_type": "stream",
     "text": [
      "dict_items([('Name', 'Ayush'), ('Age', 21)])\n",
      "dict_keys(['Name', 'Age'])\n",
      "dict_values(['Ayush', 21])\n"
     ]
    }
   ],
   "source": [
    "print(d.items()) # displays dict in list of tuples format\n",
    "print(d.keys()) # print all the keys\n",
    "print(d.values()) # prints all values"
   ]
  },
  {
   "cell_type": "code",
   "execution_count": 93,
   "id": "70c86f42",
   "metadata": {},
   "outputs": [
    {
     "name": "stdout",
     "output_type": "stream",
     "text": [
      "{1: 2, 3: 4, 5: 10, 6: 12}\n"
     ]
    }
   ],
   "source": [
    "d1={1:2,3:4,5:6}\n",
    "d2={5:10,6:12}\n",
    "\n",
    "d1.update(d2) # updates value in d1 by taking values from d2\n",
    "print(d1)"
   ]
  },
  {
   "cell_type": "code",
   "execution_count": null,
   "id": "75cfa469",
   "metadata": {},
   "outputs": [
    {
     "name": "stdout",
     "output_type": "stream",
     "text": [
      "{1: 1, 2: 4, 3: 9, 4: 16, 5: 25, 6: 36, 7: 49, 8: 64, 9: 81, 10: 100}\n"
     ]
    }
   ],
   "source": [
    "# Dictionary comprehension\n",
    "\n",
    "d={i:i**2 for i in range(1,11)} # dict with numbers and their squares\n",
    "print(d)"
   ]
  },
  {
   "cell_type": "code",
   "execution_count": 99,
   "id": "3e70e7eb",
   "metadata": {},
   "outputs": [
    {
     "name": "stdout",
     "output_type": "stream",
     "text": [
      "{'Delhi': 1000, 'Mumbai': 2000, 'Pune': 3000}\n",
      "{'Delhi': 500.0, 'Mumbai': 1000.0, 'Pune': 1500.0}\n"
     ]
    }
   ],
   "source": [
    "distance={\"Delhi\":1000, \"Mumbai\":2000, \"Pune\":3000}\n",
    "print(distance)\n",
    "\n",
    "d={key:value/2 for key,value in distance.items()}\n",
    "print(d)"
   ]
  },
  {
   "cell_type": "code",
   "execution_count": null,
   "id": "ee31910e",
   "metadata": {},
   "outputs": [
    {
     "name": "stdout",
     "output_type": "stream",
     "text": [
      "{1: 'Sunday', 2: 'Monday', 3: 'Tuesday', 4: 'Wednesday', 5: 'Thursday'}\n"
     ]
    }
   ],
   "source": [
    "number=[1,2,3,4,5]\n",
    "day=['Sunday', 'Monday', \"Tuesday\", \"Wednesday\", \"Thursday\"]\n",
    "\n",
    "d={n:d for n,d in zip(number,day)} # making dict from 2 lists\n",
    "print(d)"
   ]
  },
  {
   "cell_type": "code",
   "execution_count": 103,
   "id": "5025d2f8",
   "metadata": {},
   "outputs": [
    {
     "name": "stdout",
     "output_type": "stream",
     "text": [
      "{'Bread': 10, 'Jam': 12}\n"
     ]
    }
   ],
   "source": [
    "products={\"Bread\":10, \"Butter\":0, \"Jam\": 12, \"Sauce\":0}\n",
    "\n",
    "available_prod={key:value for key,value in products.items() if value>0}\n",
    "print(available_prod)"
   ]
  },
  {
   "cell_type": "code",
   "execution_count": null,
   "id": "1bc10e44",
   "metadata": {},
   "outputs": [],
   "source": []
  },
  {
   "cell_type": "code",
   "execution_count": null,
   "id": "15cbb1bb",
   "metadata": {},
   "outputs": [],
   "source": []
  },
  {
   "cell_type": "code",
   "execution_count": null,
   "id": "863e337a",
   "metadata": {},
   "outputs": [],
   "source": []
  },
  {
   "cell_type": "code",
   "execution_count": null,
   "id": "d3f3e657",
   "metadata": {},
   "outputs": [],
   "source": []
  }
 ],
 "metadata": {
  "kernelspec": {
   "display_name": "Python 3",
   "language": "python",
   "name": "python3"
  },
  "language_info": {
   "codemirror_mode": {
    "name": "ipython",
    "version": 3
   },
   "file_extension": ".py",
   "mimetype": "text/x-python",
   "name": "python",
   "nbconvert_exporter": "python",
   "pygments_lexer": "ipython3",
   "version": "3.13.3"
  }
 },
 "nbformat": 4,
 "nbformat_minor": 5
}
