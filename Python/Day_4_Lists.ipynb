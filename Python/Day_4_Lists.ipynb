{
 "cells": [
  {
   "cell_type": "code",
   "execution_count": 1,
   "id": "06a51902",
   "metadata": {},
   "outputs": [
    {
     "name": "stdout",
     "output_type": "stream",
     "text": [
      "[1, 'Hello', 3.14, True, [2, 3], (4, 5), {'key': 'value'}]\n"
     ]
    }
   ],
   "source": [
    "# List is a mutable datatype in Python that can store multiple items in a single variable.\n",
    "# A list is created by placing all the items (elements) inside square brackets [], separated by commas.\n",
    "# stores multiple types of data types\n",
    "\n",
    "my_list = [1, \"Hello\", 3.14, True, [2, 3], (4, 5), {'key': 'value'}]\n",
    "print(my_list)"
   ]
  },
  {
   "cell_type": "code",
   "execution_count": null,
   "id": "5dc97251",
   "metadata": {},
   "outputs": [],
   "source": [
    "# numpy array vs list\n",
    "# numpy array stores only one data type whereas list can store multiple data types\n",
    "# numpy array is more efficient in terms of performance and memory usage for numerical computations\n",
    "# numpy array supports vectorized operations which makes it faster for mathematical operations\n",
    "# list is more flexible and easier to use for general-purpose programming tasks\n",
    "# memory allocation is contiguous in numpy arrays, leading to better cache performance, while lists have non-contiguous.\n",
    "# lists are reference types, whereas numpy arrays are value types."
   ]
  },
  {
   "cell_type": "code",
   "execution_count": null,
   "id": "0c8f8765",
   "metadata": {},
   "outputs": [
    {
     "name": "stdout",
     "output_type": "stream",
     "text": [
      "140711216292808\n",
      "1983392952832\n",
      "140711216292776 140711216292776\n",
      "140711216292808 140711216292808\n",
      "140711216292840 140711216292840\n"
     ]
    }
   ],
   "source": [
    "a=2\n",
    "print(id(a)) # prints memory address of a\n",
    "\n",
    "l=[1,2,3]\n",
    "print(id(l)) # prints memory address of l\n",
    "print(id(l[0]), id(1))\n",
    "print(id(l[1]), id(2))\n",
    "print(id(l[2]), id(3)) \n",
    "# shows that list elements are references to the actual objects.\n",
    "# list is a dynamic array that can grow and shrink in size as needed.\n"
   ]
  },
  {
   "cell_type": "code",
   "execution_count": null,
   "id": "9b26d383",
   "metadata": {},
   "outputs": [],
   "source": [
    "# Characteristics of list\n",
    "# Ordered: Elements have a defined order, and that order will not change unless you explicitly reorder\n",
    "# Mutable: Elements can be changed, added, or removed after the list is created\n",
    "# Allows Duplicates: Lists can have multiple occurrences of the same element\n",
    "# Heterogeneous: Lists can contain elements of different data types\n",
    "# Indexed: Elements can be accessed using their index positions, starting from 0\n",
    "# Dynamic Size: Lists can grow or shrink in size as elements are added or removed\n",
    "# Iterable: Lists can be looped through using loops like for and while\n",
    "# Nested: Lists can contain other lists as elements, allowing for multi-dimensional data structures."
   ]
  },
  {
   "cell_type": "code",
   "execution_count": null,
   "id": "9a38f50d",
   "metadata": {},
   "outputs": [],
   "source": [
    "print([]) # empty list\n",
    "print([1,2,3,4,5]) # list of integers\n",
    "print(['a','b','c']) # list of strings\n",
    "print([1,'a',3.14,True]) # list of mixed data types\n",
    "print([[1,2],[3,4],[5,6]]) # 2D list (list of lists)\n",
    "print(list(range(1,6))) # list from range\n",
    "print(list(\"Hello\")) # list from string\n",
    "print([[[1,2],[3,4]],[[5,6],[7,8]]]) # 3D list (list of lists of lists)"
   ]
  },
  {
   "cell_type": "code",
   "execution_count": 2,
   "id": "603ab2b0",
   "metadata": {},
   "outputs": [
    {
     "name": "stdout",
     "output_type": "stream",
     "text": [
      "1\n",
      "Ayush\n",
      "2\n",
      "[1, 2, 3]\n",
      "[2, 33, True]\n",
      "[1, 33, 'Ayush']\n",
      "[1, 2, 33, True, 'Ayush', [1, 2, 3]]\n"
     ]
    }
   ],
   "source": [
    "l=[1,2,33,True,'Ayush', [1,2,3]]\n",
    "\n",
    "print(l[0])\n",
    "print(l[4])\n",
    "print(l[5][1])\n",
    "print(l[-1])\n",
    "print(l[1:4])\n",
    "print(l[::2]) # prints alternate elements\n",
    "print(l[ : : ]) # prints complete list\n"
   ]
  },
  {
   "cell_type": "code",
   "execution_count": null,
   "id": "4f089320",
   "metadata": {},
   "outputs": [
    {
     "name": "stdout",
     "output_type": "stream",
     "text": [
      "[1, 2, 3, 4, 5, True]\n",
      "[1, 2, 3, 4, 5, True, 6, 7, 8]\n",
      "[1, 2, 3, 4, 5, True, 6, 7, 8, 'D', 'e', 'l', 'h', 'i']\n",
      "['Ayush', 1, 2, 3, 4, 5, True, 6, 7, 8, 'D', 'e', 'l', 'h', 'i']\n"
     ]
    }
   ],
   "source": [
    "l=[1,2,3,4,5]\n",
    "l.append(True) # adds single element at end\n",
    "print(l)\n",
    "l.extend([6,7,8]) # adds multiple elements at end\n",
    "print(l)\n",
    "l.extend(\"Delhi\")\n",
    "print(l)\n",
    "\n",
    "l.insert(0,\"Ayush\") # adds single element at specific position (index,val)\n",
    "print(l)"
   ]
  },
  {
   "cell_type": "code",
   "execution_count": null,
   "id": "3c342e67",
   "metadata": {},
   "outputs": [
    {
     "name": "stdout",
     "output_type": "stream",
     "text": [
      "[1, 2, 3, 4, 5]\n",
      "[1, 'Ayush', 3, 4, 5]\n",
      "[1, 'Ayush', 3, 4, 5000]\n",
      "[1, 2000, 3000, 4000, 5000]\n"
     ]
    }
   ],
   "source": [
    "l=[1,2,3,4,5]\n",
    "print(l)\n",
    "l[1]=\"Ayush\" # editing using index\n",
    "print(l)\n",
    "l[-1]=5000\n",
    "print(l)\n",
    "l[1:4]=[2000,3000,4000] # editing using slicing\n",
    "print(l)"
   ]
  },
  {
   "cell_type": "code",
   "execution_count": 27,
   "id": "cdc0ff23",
   "metadata": {},
   "outputs": [
    {
     "name": "stdout",
     "output_type": "stream",
     "text": [
      "[1, 2, 3, 4, 5]\n",
      "[1, 2, 3, 4, 5, 6, 7, 8]\n",
      "[5, 6, 7, 8]\n",
      "[5, 6, 8]\n",
      "[5, 8]\n",
      "[5]\n",
      "[]\n"
     ]
    }
   ],
   "source": [
    "l=[1,2,3,4,5]\n",
    "print(l)\n",
    "del l # deletes the whole list\n",
    "\n",
    "l=[1,2,3,4,5,6,7,8,9]\n",
    "del l[-1] # deletes specific element\n",
    "print(l)\n",
    "\n",
    "del l[0:4] # deleting multiple elements using slicing\n",
    "print(l)\n",
    "\n",
    "l.remove(7) # removes element by value\n",
    "print(l)\n",
    "\n",
    "l.pop(1) # deletes element at index 1\n",
    "print(l)\n",
    "l.pop() # deleted last element\n",
    "print(l)\n",
    "\n",
    "l.clear() # deletes all the elements from the list, but not the list itself\n",
    "print(l)"
   ]
  },
  {
   "cell_type": "code",
   "execution_count": null,
   "id": "6137402e",
   "metadata": {},
   "outputs": [
    {
     "name": "stdout",
     "output_type": "stream",
     "text": [
      "[1, 2, 3, 4, 5, 6]\n",
      "[1, 2, 3, 1, 2, 3, 1, 2, 3]\n"
     ]
    }
   ],
   "source": [
    "l1=[1,2,3]\n",
    "l2=[4,5,6]\n",
    "l=l1+l2 # merges 2 lists\n",
    "print(l)\n",
    "l=l1*3 # takes list 3 times\n",
    "print(l)"
   ]
  },
  {
   "cell_type": "code",
   "execution_count": 33,
   "id": "6829ceda",
   "metadata": {},
   "outputs": [
    {
     "name": "stdout",
     "output_type": "stream",
     "text": [
      "True\n",
      "False\n",
      "False\n",
      "True\n"
     ]
    }
   ],
   "source": [
    "l1=[1,2,3,4,5]\n",
    "l2=[1,2,3,4,[5,6]]\n",
    "\n",
    "print(5 in l1) # searches for an element in list\n",
    "print(5 not in l1)\n",
    "\n",
    "print(5 in l2)\n",
    "print([5,6] in l2)"
   ]
  },
  {
   "cell_type": "code",
   "execution_count": 37,
   "id": "ca861ad1",
   "metadata": {},
   "outputs": [
    {
     "name": "stdout",
     "output_type": "stream",
     "text": [
      "1 2 3 4 5 \n",
      "1 2 3 4 [5, 6] "
     ]
    }
   ],
   "source": [
    "l1=[1,2,3,4,5]\n",
    "l2=[1,2,3,4,[5,6]]\n",
    "\n",
    "for i in l1:\n",
    "    print(i,end=' ')\n",
    "\n",
    "print()\n",
    "\n",
    "for i in l2:\n",
    "    print(i,end=' ')"
   ]
  },
  {
   "cell_type": "code",
   "execution_count": 38,
   "id": "78cbfd3b",
   "metadata": {},
   "outputs": [
    {
     "name": "stdout",
     "output_type": "stream",
     "text": [
      "5\n",
      "1\n",
      "5\n",
      "[1, 2, 3, 4, 5]\n",
      "[5, 4, 3, 2, 1]\n"
     ]
    }
   ],
   "source": [
    "l=[4,1,5,2,3]\n",
    "\n",
    "print(len(l))\n",
    "print(min(l))\n",
    "print(max(l))\n",
    "print(sorted(l))\n",
    "print(sorted(l,reverse=True))"
   ]
  },
  {
   "cell_type": "code",
   "execution_count": 47,
   "id": "07ebf47a",
   "metadata": {},
   "outputs": [
    {
     "name": "stdout",
     "output_type": "stream",
     "text": [
      "3\n",
      "6\n",
      "[4, 4, 4, 5, 3, 1, 1, 2, 1]\n",
      "[1, 1, 1, 2, 3, 4, 4, 4, 5]\n",
      "[1, 1, 1, 2, 3, 4, 4, 4, 5]\n"
     ]
    }
   ],
   "source": [
    "l=[1,2,1,1,3,5,4,4,4]\n",
    "print(l.count(1)) # frequency count\n",
    "print(l.index(4)) # returns the index of the given element\n",
    "\n",
    "l.reverse() # permamently reverses the list, doesn't return anything\n",
    "print(l)\n",
    "\n",
    "print(sorted(l)) # temperary sorting\n",
    "l.sort() # permanent sorting\n",
    "print(l)\n"
   ]
  },
  {
   "cell_type": "code",
   "execution_count": null,
   "id": "8bf00c83",
   "metadata": {},
   "outputs": [
    {
     "name": "stdout",
     "output_type": "stream",
     "text": [
      "2083392490560\n",
      "2083392356992\n"
     ]
    }
   ],
   "source": [
    "l1=[1,2,3,4,5]\n",
    "l2=l1.copy()\n",
    "print(id(l1))\n",
    "print(id(l2))\n",
    "# value is same, but 2 lists are created at different addresses (shallow copy = at new address)"
   ]
  },
  {
   "cell_type": "code",
   "execution_count": null,
   "id": "3eb734d9",
   "metadata": {},
   "outputs": [
    {
     "name": "stdout",
     "output_type": "stream",
     "text": [
      "[1, 2, 3, 4, 5, 6, 7, 8, 9, 10]\n",
      "[2, 4, 6, 8, 10, 12, 14, 16, 18, 20]\n",
      "[2, 4, 6, 8, 10]\n"
     ]
    }
   ],
   "source": [
    "# List Comprehension = concise way of creating lists\n",
    "# list1 = [expression for i in iterable if condition==True]\n",
    "\n",
    "l=[i for i in range(1,11)]\n",
    "print(l)\n",
    "\n",
    "l=[2*i for i in range(1,11)]\n",
    "print(l)\n",
    "\n",
    "l=[i for i in range(1,11) if i%2==0] # only even numbers \n",
    "print(l) \n",
    "\n",
    "# more time/space efficient\n",
    "# less lines of code\n",
    "# converts iterations into a formula"
   ]
  },
  {
   "cell_type": "code",
   "execution_count": 53,
   "id": "bbf4a7ab",
   "metadata": {},
   "outputs": [
    {
     "name": "stdout",
     "output_type": "stream",
     "text": [
      "['Ayush', 'Joshi', 'Maksood', 'Ankit']\n",
      "['Ayush', 'Ankit']\n"
     ]
    }
   ],
   "source": [
    "# finding names starting with 'A'\n",
    "names=[\"Ayush\", \"Joshi\", \"Maksood\", \"Ankit\"]\n",
    "print(names)\n",
    "ans=[i for i in names if i.startswith('A')]\n",
    "print(ans)"
   ]
  },
  {
   "cell_type": "code",
   "execution_count": 54,
   "id": "1b4f88a8",
   "metadata": {},
   "outputs": [
    {
     "name": "stdout",
     "output_type": "stream",
     "text": [
      "[[1, 2], [2, 4], [3, 6], [4, 8], [5, 10]]\n"
     ]
    }
   ],
   "source": [
    "l=[[ i*j for i in range(1,3)] for j in range(1,6)]\n",
    "print(l)"
   ]
  },
  {
   "cell_type": "code",
   "execution_count": null,
   "id": "d5af31c7",
   "metadata": {},
   "outputs": [
    {
     "name": "stdout",
     "output_type": "stream",
     "text": [
      "[[4, 8, 12], [5, 10, 15], [6, 12, 18]]\n"
     ]
    }
   ],
   "source": [
    "l1=[1,2,3]\n",
    "l2=[4,5,6]\n",
    "\n",
    "l=[i*j for i in l1 for j in l2] # cartesian product of 2 lists\n",
    "print(l)"
   ]
  },
  {
   "cell_type": "code",
   "execution_count": null,
   "id": "e614f281",
   "metadata": {},
   "outputs": [
    {
     "name": "stdout",
     "output_type": "stream",
     "text": [
      "1 2 3 4 5 Index-> 0    Value-> 1\n",
      "Index-> 1    Value-> 2\n",
      "Index-> 2    Value-> 3\n",
      "Index-> 3    Value-> 4\n",
      "Index-> 4    Value-> 5\n"
     ]
    }
   ],
   "source": [
    "# List traversal\n",
    "l=[1,2,3,4,5]\n",
    "\n",
    "for i in l: print(i,end=' ') # using iterators\n",
    "\n",
    "for i in range(0,len(l)): print(\"Index->\",i,\"  \",\"Value->\",l[i]) # using index\n"
   ]
  },
  {
   "cell_type": "code",
   "execution_count": 64,
   "id": "eea29847",
   "metadata": {},
   "outputs": [
    {
     "name": "stdout",
     "output_type": "stream",
     "text": [
      "[(1, -1), (2, -2), (3, -3)]\n",
      "[0, 0, 0]\n"
     ]
    }
   ],
   "source": [
    "# zip() returns a zip object, makes pairing from 2 lists\n",
    "l1=[1,2,3,4,5]\n",
    "l2=[-1,-2,-3]\n",
    "\n",
    "l=list(zip(l1,l2)) # typecasting a zip object to list\n",
    "print(l)\n",
    "\n",
    "l=[i+j for i,j in zip(l1,l2)]\n",
    "print(l)"
   ]
  },
  {
   "cell_type": "code",
   "execution_count": 67,
   "metadata": {},
   "outputs": [
    {
     "name": "stdout",
     "output_type": "stream",
     "text": [
      "[1, 2, <built-in function print>, <class 'type'>, <bound method Kernel.raw_input of <ipykernel.ipkernel.IPythonKernel object at 0x000001E511F65400>>]\n"
     ]
    }
   ],
   "source": [
    "# everything in python is object\n",
    "# list can store any type of object\n",
    "\n",
    "l=[1,2,print,type,input]\n",
    "print(l)"
   ]
  },
  {
   "cell_type": "code",
   "execution_count": null,
   "metadata": {},
   "outputs": [],
   "source": [
    "# DISADVANTAGES OF LISTS\n",
    "\n",
    "# slow\n",
    "# risky usage\n",
    "# uses more memory\n"
   ]
  },
  {
   "cell_type": "code",
   "execution_count": null,
   "metadata": {},
   "outputs": [
    {
     "name": "stdout",
     "output_type": "stream",
     "text": [
      "[1, 2, 3, 4, 5]\n",
      "[1, 2, 3, 4, 5]\n",
      "[1, 2, 3, 4]\n",
      "[1, 2, 3, 4]\n"
     ]
    }
   ],
   "source": [
    "# risky usage\n",
    "\n",
    "a=[1,2,3,4,5]\n",
    "b=a # both points to the same memory address\n",
    "\n",
    "print(a)\n",
    "print(b)\n",
    "\n",
    "a.pop() # changing list 1\n",
    "\n",
    "print(a)\n",
    "print(b)\n",
    "\n",
    "# changes are made only in the list 1, but both lists are modified, because they points to the same memory location"
   ]
  },
  {
   "cell_type": "code",
   "execution_count": null,
   "id": "69d66abf",
   "metadata": {},
   "outputs": [],
   "source": []
  }
 ],
 "metadata": {
  "kernelspec": {
   "display_name": "Python 3",
   "language": "python",
   "name": "python3"
  },
  "language_info": {
   "codemirror_mode": {
    "name": "ipython",
    "version": 3
   },
   "file_extension": ".py",
   "mimetype": "text/x-python",
   "name": "python",
   "nbconvert_exporter": "python",
   "pygments_lexer": "ipython3",
   "version": "3.13.3"
  }
 },
 "nbformat": 4,
 "nbformat_minor": 5
}
