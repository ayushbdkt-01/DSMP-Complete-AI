{
 "cells": [
  {
   "cell_type": "code",
   "execution_count": null,
   "id": "f7015d33",
   "metadata": {},
   "outputs": [],
   "source": [
    "# Arithematic Operators\n",
    "a=10\n",
    "b=3\n",
    "print(\"a + b =\", a + b)   # Addition\n",
    "print(\"a - b =\", a - b)   # Subtraction\n",
    "print(\"a * b =\", a * b)   # Multiplication\n",
    "print(\"a / b =\", a / b)   # Division (float)\n",
    "print(\"a // b =\", a // b) # Integer Division\n",
    "print(\"a % b =\", a % b)   # Modulus\n",
    "print(\"a ** b =\", a ** b) # Exponentiation"
   ]
  },
  {
   "cell_type": "code",
   "execution_count": null,
   "id": "209bd2ec",
   "metadata": {},
   "outputs": [],
   "source": [
    "# relational Operators\n",
    "a=10\n",
    "b=20\n",
    "print(\"a > b =\", a > b)   # Greater than\n",
    "print(\"a < b =\", a < b)   # Less than\n",
    "print(\"a >= b =\", a >= b) # Greater than or equal to\n",
    "print(\"a <= b =\", a <= b) # Less than or equal to\n",
    "print(\"a == b =\", a == b) # Equal to\n",
    "print(\"a != b =\", a != b) # Not equal to\n"
   ]
  },
  {
   "cell_type": "code",
   "execution_count": null,
   "metadata": {},
   "outputs": [],
   "source": [
    "# Logical Operators\n",
    "x = True\n",
    "y = False\n",
    "print( x and y) # Logical AND\n",
    "print( x or y)  # Logical OR\n",
    "print(not x)    # Logical NOT\n"
   ]
  },
  {
   "cell_type": "code",
   "execution_count": null,
   "id": "ffced7f6",
   "metadata": {},
   "outputs": [],
   "source": [
    "# Bitwise Operators\n",
    "a = 5\n",
    "b = 3\n",
    "print(a & b)   # Bitwise AND\n",
    "print(a | b)   # Bitwise OR\n",
    "print(a ^ b)   # Bitwise XOR\n",
    "print(~a)      # Bitwise NOT\n",
    "print(a << 1)  # Left Shift\n",
    "print(a >> 1)  # Right Shift\n"
   ]
  },
  {
   "cell_type": "code",
   "execution_count": null,
   "id": "ad678b42",
   "metadata": {},
   "outputs": [],
   "source": [
    "# Assignment Operators\n",
    "a = 10\n",
    "a += 5 \n",
    "print(a)\n",
    "a -= 3  \n",
    "print(a)\n",
    "a *= 2  \n",
    "print(a)\n",
    "a /= 4 \n",
    "print(a)\n",
    "a %= 3  \n",
    "print(a)\n",
    "a **= 2 \n",
    "print(a)\n",
    "a //= 2 \n",
    "print(a)"
   ]
  },
  {
   "cell_type": "code",
   "execution_count": null,
   "id": "ddf0725a",
   "metadata": {},
   "outputs": [],
   "source": [
    "# Membership Operators\n",
    "list1 = [1, 2, 3, 4, 5]\n",
    "print(3 in list1)    # True\n",
    "print(6 not in list1) # True\n",
    "\n",
    "print(\"Hello\" in \"Hello World\")    # True\n",
    "print(\"Python\" not in \"Hello World\") # True"
   ]
  },
  {
   "cell_type": "code",
   "execution_count": null,
   "id": "b1587027",
   "metadata": {},
   "outputs": [],
   "source": [
    "age=int(input(\"Enter your age: \"))\n",
    "if age>=18:\n",
    "    print(\"You are eligible to vote\")\n",
    "elif age<0:\n",
    "    print(\"Invalid age\")\n",
    "else:\n",
    "    print(\"You are not eligible to vote\")"
   ]
  },
  {
   "cell_type": "code",
   "execution_count": null,
   "id": "b2e27151",
   "metadata": {},
   "outputs": [],
   "source": [
    "# Modules in Python are files containing Python code that can define functions, classes, and variables. \n",
    "# Provides built-in functionality and can be imported to use in other Python programs.\n",
    "import math\n",
    "print(math.sqrt(16)) \n",
    "print(math.pi)\n",
    "print(math.factorial(5))"
   ]
  },
  {
   "cell_type": "code",
   "execution_count": null,
   "id": "53ecc442",
   "metadata": {},
   "outputs": [],
   "source": [
    "import keyword\n",
    "print(keyword.kwlist)\n"
   ]
  },
  {
   "cell_type": "code",
   "execution_count": null,
   "id": "cf8db53d",
   "metadata": {},
   "outputs": [],
   "source": [
    "import random\n",
    "print(random.randint(1, 100))  # Random integer between 1 and 100\n",
    "print(random.choice(['apple', 'banana', 'cherry']))  # Random choice from a list\n"
   ]
  },
  {
   "cell_type": "code",
   "execution_count": null,
   "id": "53a8069f",
   "metadata": {},
   "outputs": [],
   "source": [
    "import datetime\n",
    "current_date = datetime.date.today()\n",
    "current_time = datetime.datetime.now().time()\n",
    "print(\"Current Date:\", current_date)\n",
    "print(\"Current Time:\", current_time)"
   ]
  },
  {
   "cell_type": "code",
   "execution_count": null,
   "id": "8ac44bf0",
   "metadata": {},
   "outputs": [],
   "source": [
    "help('modules')"
   ]
  },
  {
   "cell_type": "code",
   "execution_count": null,
   "id": "f263ec61",
   "metadata": {},
   "outputs": [],
   "source": [
    "i=1\n",
    "while i<11:\n",
    "    print(i,end=\" \")\n",
    "    i+=1\n"
   ]
  },
  {
   "cell_type": "code",
   "execution_count": null,
   "id": "db13415e",
   "metadata": {},
   "outputs": [],
   "source": [
    "# while loop with else is used to execute a block of code when the while loop condition becomes false.\n",
    "i=1\n",
    "while i<11:\n",
    "    print(i,end=\" \")\n",
    "    i+=1\n",
    "else:\n",
    "    print(\"Loop ended successfully\")\n",
    "\n",
    "# else is not executed if the loop is terminated by a break statement."
   ]
  },
  {
   "cell_type": "code",
   "execution_count": 4,
   "id": "cd6da439",
   "metadata": {},
   "outputs": [
    {
     "name": "stdout",
     "output_type": "stream",
     "text": [
      "You Wom\n"
     ]
    }
   ],
   "source": [
    "import random\n",
    "num=random.randint(1,10)\n",
    "guess=int(input(\"Enter your guess: \"))\n",
    "\n",
    "while num!=guess:\n",
    "    if(num==guess):\n",
    "        break\n",
    "    elif guess>num:\n",
    "        guess=int(input(\"Think for a smaller number: \"))\n",
    "\n",
    "    else: \n",
    "        guess=int(input(\"Think for a larger number: \"))\n",
    "\n",
    "print(\"You Wom\")"
   ]
  },
  {
   "cell_type": "code",
   "execution_count": 11,
   "id": "553a9180",
   "metadata": {},
   "outputs": [
    {
     "name": "stdout",
     "output_type": "stream",
     "text": [
      "1 2 3 4 5 6 7 8 9 10 \n",
      "1 3 5 7 9 \n",
      "10 9 8 7 6 5 4 3 2 1 \n",
      "A y u s h   B u d h l a k o t i \n",
      "1 2 3 4 5 \n",
      "1 2 3 4 5 "
     ]
    }
   ],
   "source": [
    "for i in range(1,11):\n",
    "    print(i, end=\" \")\n",
    "\n",
    "print()\n",
    "\n",
    "for i in range(1,11,2):\n",
    "    print(i, end=\" \")\n",
    "\n",
    "print()\n",
    "\n",
    "for i in range(10,0,-1):\n",
    "    print(i, end=\" \")\n",
    "\n",
    "print()\n",
    "\n",
    "for i in \"Ayush Budhlakoti\":\n",
    "    print(i, end=\" \")\n",
    "\n",
    "print()\n",
    "\n",
    "for i in [1,2,3,4,5]:\n",
    "    print(i, end=\" \")\n",
    "\n",
    "print()\n",
    "\n",
    "for i in (1,2,3,4,5):\n",
    "    print(i, end=\" \")   "
   ]
  },
  {
   "cell_type": "code",
   "execution_count": 12,
   "id": "7c03bb10",
   "metadata": {},
   "outputs": [
    {
     "name": "stdout",
     "output_type": "stream",
     "text": [
      "Year 1: 11000\n",
      "Year 2: 12100\n",
      "Year 3: 13310\n",
      "Year 4: 14641\n",
      "Year 5: 16105\n",
      "Year 6: 17715\n",
      "Year 7: 19487\n",
      "Year 8: 21435\n",
      "Year 9: 23579\n",
      "Year 10: 25937\n"
     ]
    }
   ],
   "source": [
    "population=10000\n",
    "\n",
    "for i in range(1,11):\n",
    "    population=population+(population*0.1)\n",
    "    print(f\"Year {i}: {int(population)}\")"
   ]
  },
  {
   "cell_type": "code",
   "execution_count": 13,
   "id": "93daf561",
   "metadata": {},
   "outputs": [
    {
     "name": "stdout",
     "output_type": "stream",
     "text": [
      "The sum of first 5 terms of the series is: 1.7166666666666668\n"
     ]
    }
   ],
   "source": [
    "import math\n",
    "n=5\n",
    "sum=0\n",
    "for i in range(1, n+1):\n",
    "    sum+=1/math.factorial(i)\n",
    "print(f\"The sum of first {n} terms of the series is: {sum}\")"
   ]
  },
  {
   "cell_type": "code",
   "execution_count": 18,
   "id": "4d6c124e",
   "metadata": {},
   "outputs": [
    {
     "name": "stdout",
     "output_type": "stream",
     "text": [
      "1\n",
      "121\n",
      "12321\n",
      "1234321\n",
      "123454321\n"
     ]
    }
   ],
   "source": [
    "for i in range(1, 6):\n",
    "    for j in range(1, i+1):\n",
    "        print(j,end='')\n",
    "    for j in range(i-1,0,-1):\n",
    "        print(j,end='')\n",
    "    print()"
   ]
  },
  {
   "cell_type": "code",
   "execution_count": 22,
   "id": "1177c63d",
   "metadata": {},
   "outputs": [
    {
     "name": "stdout",
     "output_type": "stream",
     "text": [
      "11 13 17 19 "
     ]
    }
   ],
   "source": [
    "# prime numbers in a range\n",
    "\n",
    "start=int(input(\"Enter the start of the range: \"))\n",
    "end=int(input(\"Enter the end of the range: \"))\n",
    "\n",
    "for i in range(start,end+1):\n",
    "    for j in range(2,i):\n",
    "        if i%j==0:\n",
    "            break\n",
    "    else:\n",
    "        print(i,end=' ')"
   ]
  },
  {
   "cell_type": "code",
   "execution_count": 23,
   "id": "90e04fc4",
   "metadata": {},
   "outputs": [],
   "source": [
    "# pass statement is used when we don't know what to write in a block of code.\n",
    "# It is a placeholder that does nothing.\n",
    "for i in range(1, 6):\n",
    "    pass"
   ]
  },
  {
   "cell_type": "code",
   "execution_count": 25,
   "id": "70ea7cb4",
   "metadata": {},
   "outputs": [
    {
     "name": "stdout",
     "output_type": "stream",
     "text": [
      "Hello\n",
      "Ayush\n",
      "Python\n"
     ]
    }
   ],
   "source": [
    "# string is the collection of unicide characters\n",
    "# c/c++ has ASCII characters (256 characters)\n",
    "# python has unicode characters (>256 characters, emojis also)\n",
    "\n",
    "s=\"Hello\"\n",
    "print(s)\n",
    "s='Ayush'\n",
    "print(s)\n",
    "s='''Python'''\n",
    "print(s)"
   ]
  },
  {
   "cell_type": "code",
   "execution_count": null,
   "id": "e7986c1f",
   "metadata": {},
   "outputs": [
    {
     "name": "stdout",
     "output_type": "stream",
     "text": [
      "A y i t\n"
     ]
    }
   ],
   "source": [
    "# indexing in strings is used to access individual characters in a string.\n",
    "s=\"Ayush Budhlakoti\"\n",
    "print(s[0], s[1], s[-1], s[-2])"
   ]
  },
  {
   "cell_type": "code",
   "execution_count": 32,
   "id": "49b4a50f",
   "metadata": {},
   "outputs": [
    {
     "name": "stdout",
     "output_type": "stream",
     "text": [
      "Ayush\n",
      "Budhlakoti\n",
      "Ayush\n",
      "lakoti\n",
      "AuhBdl\n",
      "itokalhduB hsuyA\n"
     ]
    }
   ],
   "source": [
    "# string slicing is used to extract a substring from a string.\n",
    "s=\"Ayush Budhlakoti\"\n",
    "print(s[0:5])   # Ayush\n",
    "print(s[6:])    # Budhlakoti (till end)\n",
    "print(s[:5])    # Ayush (from start)\n",
    "print(s[-6:])   # lakoti (last 6 characters)\n",
    "print(s[0:11:2]) # AuhBdakt (step 2)\n",
    "print(s[::-1])  # itoklahdubu hsuya (reverse string)"
   ]
  },
  {
   "cell_type": "code",
   "execution_count": null,
   "id": "2b7cc9e0",
   "metadata": {},
   "outputs": [
    {
     "name": "stdout",
     "output_type": "stream",
     "text": [
      "Ayush\n",
      "Ayush\n"
     ]
    },
    {
     "ename": "NameError",
     "evalue": "name 's' is not defined",
     "output_type": "error",
     "traceback": [
      "\u001b[31m---------------------------------------------------------------------------\u001b[39m",
      "\u001b[31mNameError\u001b[39m                                 Traceback (most recent call last)",
      "\u001b[36mCell\u001b[39m\u001b[36m \u001b[39m\u001b[32mIn[35]\u001b[39m\u001b[32m, line 6\u001b[39m\n\u001b[32m      4\u001b[39m \u001b[38;5;28mprint\u001b[39m(s)\n\u001b[32m      5\u001b[39m \u001b[38;5;28;01mdel\u001b[39;00m s\n\u001b[32m----> \u001b[39m\u001b[32m6\u001b[39m \u001b[38;5;28mprint\u001b[39m(\u001b[43ms\u001b[49m) \u001b[38;5;66;03m# NameError: name 's' is not defined\u001b[39;00m\n",
      "\u001b[31mNameError\u001b[39m: name 's' is not defined"
     ]
    }
   ],
   "source": [
    "s=\"Ayush\"\n",
    "print(s)\n",
    "# s[0]=\"B\" # strings are immutable\n",
    "print(s)\n",
    "del s\n",
    "# print(s) # NameError: name 's' is not defined\n",
    "\n",
    "# we can delete the whole string but cannot delete a character/substring from it.\n"
   ]
  },
  {
   "cell_type": "code",
   "execution_count": 36,
   "id": "8ae5a8be",
   "metadata": {},
   "outputs": [
    {
     "name": "stdout",
     "output_type": "stream",
     "text": [
      "Hello World\n",
      "HelloHelloHello\n"
     ]
    }
   ],
   "source": [
    "# arithematic Operators on strings\n",
    "s1=\"Hello\"\n",
    "s2=\"World\"\n",
    "print(s1 + \" \" + s2)  # Concatenation\n",
    "print(s1 * 3)          # Repetition\n"
   ]
  },
  {
   "cell_type": "code",
   "execution_count": 37,
   "id": "908a2f51",
   "metadata": {},
   "outputs": [
    {
     "name": "stdout",
     "output_type": "stream",
     "text": [
      "False\n",
      "True\n",
      "False\n",
      "True\n",
      "False\n",
      "True\n",
      "False\n"
     ]
    }
   ],
   "source": [
    "# relational Operators on strings\n",
    "s1=\"apple\"\n",
    "s2=\"banana\"\n",
    "print(s1 > s2)   # False\n",
    "print(s1 < s2)   # True\n",
    "print(s1 >= s2)  # False\n",
    "print(s1 <= s2)  # True\n",
    "print(s1 == s2)  # False\n",
    "print(s1 != s2)  # True\n",
    "# comparison is done lexicographically (dictionary order)\n",
    "print('Pune'>'pune') # now, comparison is done based on ASCII values. (uppercase < lowercase)"
   ]
  },
  {
   "cell_type": "code",
   "execution_count": 40,
   "id": "9b044afe",
   "metadata": {},
   "outputs": [
    {
     "name": "stdout",
     "output_type": "stream",
     "text": [
      "World\n",
      "Hello\n",
      "False\n"
     ]
    }
   ],
   "source": [
    "# logical Operators on strings\n",
    "# python considers non-empty strings as True and empty strings as False\n",
    "s1 = \"Hello\"\n",
    "s2 = \"World\"\n",
    "print( s1 and s2) # Logical AND\n",
    "print( s1 or s2)  # Logical OR\n",
    "print(not s1)    # Logical NOT"
   ]
  },
  {
   "cell_type": "code",
   "execution_count": 41,
   "id": "92c7afa4",
   "metadata": {},
   "outputs": [
    {
     "name": "stdout",
     "output_type": "stream",
     "text": [
      "A\n",
      "y\n",
      "u\n",
      "s\n",
      "h\n"
     ]
    }
   ],
   "source": [
    "for i in \"Ayush\":\n",
    "    print(i)"
   ]
  },
  {
   "cell_type": "code",
   "execution_count": 1,
   "id": "379824ea",
   "metadata": {},
   "outputs": [
    {
     "name": "stdout",
     "output_type": "stream",
     "text": [
      "Ayush\n",
      "Ayush\n",
      "Ayush\n",
      "Ayush\n",
      "Ayush\n"
     ]
    }
   ],
   "source": [
    "for i in \"Delhi\":\n",
    "    print(\"Ayush\")"
   ]
  },
  {
   "cell_type": "code",
   "execution_count": 4,
   "id": "294b418c",
   "metadata": {},
   "outputs": [
    {
     "name": "stdout",
     "output_type": "stream",
     "text": [
      "15\n",
      "Hello World\n",
      "  hello world  \n",
      "  HELLO WORLD  \n",
      "  Jello World  \n",
      "['Hello', 'World']\n",
      "8\n",
      "8\n",
      "3\n",
      "True\n",
      "True\n",
      "False\n",
      "False\n",
      "False\n",
      "False\n",
      "  hello world  \n",
      "  Hello World  \n",
      "r\n",
      " \n",
      "[' ', ' ', ' ', ' ', ' ', 'H', 'W', 'd', 'e', 'l', 'l', 'l', 'o', 'o', 'r']\n",
      "['r', 'o', 'o', 'l', 'l', 'l', 'e', 'd', 'W', 'H', ' ', ' ', ' ', ' ', ' ']\n",
      "  hello world  \n",
      "  Hello World  \n",
      "  hELLO wORLD  \n",
      "False\n"
     ]
    }
   ],
   "source": [
    "# string functions and methods\n",
    "s=\"  Hello World  \"\n",
    "print(len(s))          # Length of the string\n",
    "print(s.strip())      # Remove leading and trailing whitespace\n",
    "print(s.lower())      # Convert to lowercase    \n",
    "print(s.upper())      # Convert to uppercase\n",
    "print(s.replace(\"H\", \"J\")) # Replace H with J\n",
    "print(s.split())     # Split the string into a list of words, returns a list\n",
    "print(s.find(\"World\")) # Find the index of the first occurrence of \"World\", returns -1 if not found\n",
    "print(s.index(\"World\")) # Find the index of the first occurrence of \"World\", raises ValueError if not found\n",
    "print(s.count(\"l\"))  # Count the occurrences of \"l\"\n",
    "print(s.startswith(\"  He\")) # Check if the string starts with \"  He\"\n",
    "print(s.endswith(\"ld  \"))   # Check if the string ends with \"ld  \"  \n",
    "print(s.isalpha())   # Check if all characters are alphabetic\n",
    "print(s.isdigit())   # Check if all characters are digits\n",
    "print(s.isalnum())   # Check if all characters are alphanumeric\n",
    "print(s.isspace())   # Check if all characters are whitespace\n",
    "print(s.capitalize()) # Capitalize the first character\n",
    "print(s.title())     # Convert to title case\n",
    "print(max(s))        # Maximum character (based on ASCII value)\n",
    "print(min(s))        # Minimum character (based on ASCII value)\n",
    "print(sorted(s))     # Sorted list of characters, returns a list\n",
    "print(sorted(s, reverse=True)) # Sorted list of characters in reverse order, returns a list\n",
    "print(s.capitalize()) # Capitalize the first character\n",
    "print(s.title())     # Convert to title case, each word starts with an uppercase letter\n",
    "print(s.swapcase()) # Swap case, uppercase to lowercase and vice versa\n",
    "print(s.isidentifier()) # Check if the string is a valid identifier"
   ]
  },
  {
   "cell_type": "code",
   "execution_count": 9,
   "id": "7f9443e7",
   "metadata": {},
   "outputs": [
    {
     "name": "stdout",
     "output_type": "stream",
     "text": [
      "['My', 'name', 'is', 'Ayush']\n",
      "['My n', 'me is Ayush']\n"
     ]
    },
    {
     "data": {
      "text/plain": [
       "'Hello World'"
      ]
     },
     "execution_count": 9,
     "metadata": {},
     "output_type": "execute_result"
    }
   ],
   "source": [
    "s=\"My name is Ayush\"\n",
    "print(s.split(' ')) # Splits the string into a list of words based on spaces\n",
    "print(s.split('a')) # Splits the string into a list of substrings based on 'a'\n",
    "''. join(['a','y','u','s','h']) # Joins the list of characters into a string\n",
    "\n",
    "# split and reverse are opposite to each other\n",
    "\n",
    "' '.join(['Hello', 'World']) # Joins the list of words into a string with space as separator"
   ]
  },
  {
   "cell_type": "code",
   "execution_count": null,
   "id": "8539016a",
   "metadata": {},
   "outputs": [],
   "source": []
  },
  {
   "cell_type": "code",
   "execution_count": null,
   "id": "07bba86f",
   "metadata": {},
   "outputs": [],
   "source": []
  },
  {
   "cell_type": "code",
   "execution_count": null,
   "metadata": {},
   "outputs": [],
   "source": []
  },
  {
   "cell_type": "code",
   "execution_count": null,
   "id": "c2edbd85",
   "metadata": {},
   "outputs": [],
   "source": []
  },
  {
   "cell_type": "code",
   "execution_count": null,
   "metadata": {},
   "outputs": [],
   "source": []
  },
  {
   "cell_type": "code",
   "execution_count": null,
   "id": "00be208b",
   "metadata": {},
   "outputs": [],
   "source": []
  }
 ],
 "metadata": {
  "kernelspec": {
   "display_name": "Python 3",
   "language": "python",
   "name": "python3"
  },
  "language_info": {
   "codemirror_mode": {
    "name": "ipython",
    "version": 3
   },
   "file_extension": ".py",
   "mimetype": "text/x-python",
   "name": "python",
   "nbconvert_exporter": "python",
   "pygments_lexer": "ipython3",
   "version": "3.13.3"
  }
 },
 "nbformat": 4,
 "nbformat_minor": 5
}
