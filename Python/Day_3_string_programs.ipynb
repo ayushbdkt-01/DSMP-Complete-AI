{
 "cells": [
  {
   "cell_type": "code",
   "execution_count": 2,
   "id": "bdc9eeb0",
   "metadata": {},
   "outputs": [
    {
     "name": "stdout",
     "output_type": "stream",
     "text": [
      "Length of the string is: 11\n"
     ]
    }
   ],
   "source": [
    "# find length of string\n",
    "s = \"Hello World\"\n",
    "counter = 0\n",
    "for char in s:\n",
    "    counter += 1\n",
    "print(\"Length of the string is:\", counter)"
   ]
  },
  {
   "cell_type": "code",
   "execution_count": 5,
   "id": "520cc10c",
   "metadata": {},
   "outputs": [
    {
     "name": "stdout",
     "output_type": "stream",
     "text": [
      "Username is: ayush\n"
     ]
    }
   ],
   "source": [
    "# extract usernae from email\n",
    "email = input(\"Enter your email: \")\n",
    "l=email.split('@')\n",
    "print(\"Username is:\", l[0])"
   ]
  },
  {
   "cell_type": "code",
   "execution_count": 7,
   "id": "d8c0f438",
   "metadata": {},
   "outputs": [
    {
     "name": "stdout",
     "output_type": "stream",
     "text": [
      "4\n"
     ]
    }
   ],
   "source": [
    "# find frequency of a specific character in a string\n",
    "s=\"Ayush Budhlakoti AAA\"\n",
    "ch='A'\n",
    "count=0\n",
    "for i in s:\n",
    "    if i==ch:\n",
    "        count+=1\n",
    "\n",
    "print(count)"
   ]
  },
  {
   "cell_type": "code",
   "execution_count": 8,
   "id": "3bcbc144",
   "metadata": {},
   "outputs": [
    {
     "name": "stdout",
     "output_type": "stream",
     "text": [
      "yush Budhlakoti \n"
     ]
    }
   ],
   "source": [
    "# remove specific character from string\n",
    "s=\"Ayush Budhlakoti AAA\"\n",
    "ch='A'\n",
    "new_s=\"\"\n",
    "for i in s:\n",
    "    if i!=ch:\n",
    "        new_s+=i\n",
    "\n",
    "print(new_s)"
   ]
  },
  {
   "cell_type": "code",
   "execution_count": 13,
   "id": "6c94d5d2",
   "metadata": {},
   "outputs": [
    {
     "name": "stdout",
     "output_type": "stream",
     "text": [
      "Palindrome\n"
     ]
    }
   ],
   "source": [
    "# check if string is palindrome or not\n",
    "s=\"nitin\"\n",
    "if s==s[::-1]:\n",
    "    print(\"Palindrome\")\n",
    "else:\n",
    "    print(\"Not a palindrome\")"
   ]
  },
  {
   "cell_type": "code",
   "execution_count": 14,
   "id": "7b16a36d",
   "metadata": {},
   "outputs": [
    {
     "name": "stdout",
     "output_type": "stream",
     "text": [
      "Number of words: 5\n"
     ]
    }
   ],
   "source": [
    "# count number of words in a string\n",
    "s=\"Hello World, This is Ayush\"\n",
    "count=1\n",
    "for i in s:\n",
    "    if i==' ':\n",
    "        count+=1\n",
    "print(\"Number of words:\", count)"
   ]
  },
  {
   "cell_type": "code",
   "execution_count": 22,
   "id": "0b7a6015",
   "metadata": {},
   "outputs": [
    {
     "name": "stdout",
     "output_type": "stream",
     "text": [
      "Hello World, This Is Ayush "
     ]
    }
   ],
   "source": [
    "# convert to title case\n",
    "s=\"hello world, this is ayush\"\n",
    "l=s.split(' ')\n",
    "for i in l:\n",
    "    i=i.capitalize()\n",
    "    print(i,end=' ')"
   ]
  },
  {
   "cell_type": "code",
   "execution_count": 24,
   "id": "cf99fb3a",
   "metadata": {},
   "outputs": [
    {
     "name": "stdout",
     "output_type": "stream",
     "text": [
      "123456\n",
      "654321\n"
     ]
    }
   ],
   "source": [
    "num=123456\n",
    "print(str(num))\n",
    "s=''\n",
    "while num>0:\n",
    "    digit=num%10\n",
    "    s+=str(digit)\n",
    "    num=num//10\n",
    "\n",
    "print(s)"
   ]
  },
  {
   "cell_type": "code",
   "execution_count": null,
   "id": "382d9af6",
   "metadata": {},
   "outputs": [],
   "source": []
  },
  {
   "cell_type": "code",
   "execution_count": null,
   "id": "cb8633a1",
   "metadata": {},
   "outputs": [],
   "source": []
  },
  {
   "cell_type": "code",
   "execution_count": null,
   "id": "ba1eeca3",
   "metadata": {},
   "outputs": [],
   "source": []
  },
  {
   "cell_type": "code",
   "execution_count": null,
   "id": "07bff439",
   "metadata": {},
   "outputs": [],
   "source": []
  },
  {
   "cell_type": "code",
   "execution_count": null,
   "id": "49707b87",
   "metadata": {},
   "outputs": [],
   "source": []
  },
  {
   "cell_type": "code",
   "execution_count": null,
   "id": "078449a5",
   "metadata": {},
   "outputs": [],
   "source": []
  },
  {
   "cell_type": "code",
   "execution_count": null,
   "id": "1fbe2776",
   "metadata": {},
   "outputs": [],
   "source": []
  },
  {
   "cell_type": "code",
   "execution_count": null,
   "id": "ee8cf799",
   "metadata": {},
   "outputs": [],
   "source": []
  },
  {
   "cell_type": "code",
   "execution_count": null,
   "id": "f69685b2",
   "metadata": {},
   "outputs": [],
   "source": []
  }
 ],
 "metadata": {
  "kernelspec": {
   "display_name": "Python 3",
   "language": "python",
   "name": "python3"
  },
  "language_info": {
   "codemirror_mode": {
    "name": "ipython",
    "version": 3
   },
   "file_extension": ".py",
   "mimetype": "text/x-python",
   "name": "python",
   "nbconvert_exporter": "python",
   "pygments_lexer": "ipython3",
   "version": "3.13.3"
  }
 },
 "nbformat": 4,
 "nbformat_minor": 5
}
